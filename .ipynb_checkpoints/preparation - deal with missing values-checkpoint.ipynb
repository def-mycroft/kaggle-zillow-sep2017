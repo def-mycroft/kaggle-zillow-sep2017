{
 "cells": [
  {
   "cell_type": "code",
   "execution_count": 114,
   "metadata": {
    "collapsed": true
   },
   "outputs": [],
   "source": [
    "import pandas as pd\n",
    "import numpy as np\n",
    "import os\n",
    "import pickle_funcs as pk\n",
    "import helpers\n",
    "from matplotlib import pyplot\n",
    "import sqlite3\n",
    "out_path = \"C:/Users/dasen/Google Drive/SYNC TO PC/\"\n",
    "downloads = \"C:/Users/dasen/Downloads/\""
   ]
  },
  {
   "cell_type": "markdown",
   "metadata": {},
   "source": [
    "# Description\n",
    "\n",
    "Exploration and setup of data for [kaggle project.](https://www.kaggle.com/c/zillow-prize-1/data)\n",
    "\n",
    "There are a lot of missing values in this data."
   ]
  },
  {
   "cell_type": "markdown",
   "metadata": {
    "collapsed": true
   },
   "source": [
    "# Load Data"
   ]
  },
  {
   "cell_type": "markdown",
   "metadata": {},
   "source": [
    "Some of columns have so many missing values that there isn't any point in using them. Elsewhere (not shown) I created a list of all of the variables in `properties` and created a table with their respective quantities of missing values. I went throug this sheet manually and added `t` to columns which I'm not even going to include in the analysis. \n",
    "\n",
    "Now I can query the database for only these columns:"
   ]
  },
  {
   "cell_type": "code",
   "execution_count": 115,
   "metadata": {
    "collapsed": true
   },
   "outputs": [],
   "source": [
    "# load pre prepared list of columns to include in data \n",
    "cols = pd.read_excel(out_path + 'DATA-998 - variable decisions - 9-16-2017.xlsx')\n",
    "cols = list(cols[cols.keep == 't']['feature'])"
   ]
  },
  {
   "cell_type": "code",
   "execution_count": 116,
   "metadata": {
    "collapsed": true
   },
   "outputs": [],
   "source": [
    "# load table of column desriptions \n",
    "names = pd.read_excel(out_path + 'DATA-998 - variable decisions - 9-16-2017.xlsx')"
   ]
  },
  {
   "cell_type": "markdown",
   "metadata": {},
   "source": [
    "The below call creates an sql query, joining the `properties` table with the `train` table. I'm using string formatting to pull in the column names loaded in the above cell."
   ]
  },
  {
   "cell_type": "code",
   "execution_count": 117,
   "metadata": {
    "collapsed": true
   },
   "outputs": [],
   "source": [
    "# create query for loading the data\n",
    "query = \"\"\"\n",
    "    select \n",
    "    train.parcelid, train.logerror, train.transactiondate,\n",
    "    %s\n",
    "    from train\n",
    "    inner join properties on properties.parcelid = train.parcelid\n",
    "\"\"\" % str(\", \".join(cols))"
   ]
  },
  {
   "cell_type": "markdown",
   "metadata": {},
   "source": [
    "After creating the query, I can use my helper function to load a dataframe from the query. "
   ]
  },
  {
   "cell_type": "code",
   "execution_count": 118,
   "metadata": {
    "collapsed": true
   },
   "outputs": [],
   "source": [
    "# create df and set index \n",
    "df = helpers.query_database(query)\n",
    "df.index = df.parcelid"
   ]
  },
  {
   "cell_type": "code",
   "execution_count": 119,
   "metadata": {},
   "outputs": [
    {
     "data": {
      "text/html": [
       "<div>\n",
       "<style>\n",
       "    .dataframe thead tr:only-child th {\n",
       "        text-align: right;\n",
       "    }\n",
       "\n",
       "    .dataframe thead th {\n",
       "        text-align: left;\n",
       "    }\n",
       "\n",
       "    .dataframe tbody tr th {\n",
       "        vertical-align: top;\n",
       "    }\n",
       "</style>\n",
       "<table border=\"1\" class=\"dataframe\">\n",
       "  <thead>\n",
       "    <tr style=\"text-align: right;\">\n",
       "      <th></th>\n",
       "      <th>parcelid</th>\n",
       "      <th>logerror</th>\n",
       "      <th>transactiondate</th>\n",
       "      <th>bathroomcnt</th>\n",
       "      <th>bedroomcnt</th>\n",
       "      <th>fips</th>\n",
       "      <th>latitude</th>\n",
       "      <th>longitude</th>\n",
       "      <th>propertycountylandusecode</th>\n",
       "      <th>propertylandusetypeid</th>\n",
       "      <th>...</th>\n",
       "      <th>buildingqualitytypeid</th>\n",
       "      <th>heatingorsystemtypeid</th>\n",
       "      <th>regionidneighborhood</th>\n",
       "      <th>garagecarcnt</th>\n",
       "      <th>garagetotalsqft</th>\n",
       "      <th>airconditioningtypeid</th>\n",
       "      <th>numberofstories</th>\n",
       "      <th>poolcnt</th>\n",
       "      <th>pooltypeid7</th>\n",
       "      <th>threequarterbathnbr</th>\n",
       "    </tr>\n",
       "    <tr>\n",
       "      <th>parcelid</th>\n",
       "      <th></th>\n",
       "      <th></th>\n",
       "      <th></th>\n",
       "      <th></th>\n",
       "      <th></th>\n",
       "      <th></th>\n",
       "      <th></th>\n",
       "      <th></th>\n",
       "      <th></th>\n",
       "      <th></th>\n",
       "      <th></th>\n",
       "      <th></th>\n",
       "      <th></th>\n",
       "      <th></th>\n",
       "      <th></th>\n",
       "      <th></th>\n",
       "      <th></th>\n",
       "      <th></th>\n",
       "      <th></th>\n",
       "      <th></th>\n",
       "      <th></th>\n",
       "    </tr>\n",
       "  </thead>\n",
       "  <tbody>\n",
       "    <tr>\n",
       "      <th>11016594</th>\n",
       "      <td>11016594</td>\n",
       "      <td>0.0276</td>\n",
       "      <td>2016-01-01</td>\n",
       "      <td>2.0</td>\n",
       "      <td>3.0</td>\n",
       "      <td>6037.0</td>\n",
       "      <td>34280990.0</td>\n",
       "      <td>-118488536.0</td>\n",
       "      <td>0100</td>\n",
       "      <td>261.0</td>\n",
       "      <td>...</td>\n",
       "      <td>4.0</td>\n",
       "      <td>2.0</td>\n",
       "      <td>31817.0</td>\n",
       "      <td>NaN</td>\n",
       "      <td>NaN</td>\n",
       "      <td>1.0</td>\n",
       "      <td>NaN</td>\n",
       "      <td>NaN</td>\n",
       "      <td>NaN</td>\n",
       "      <td>NaN</td>\n",
       "    </tr>\n",
       "    <tr>\n",
       "      <th>14366692</th>\n",
       "      <td>14366692</td>\n",
       "      <td>-0.1684</td>\n",
       "      <td>2016-01-01</td>\n",
       "      <td>3.5</td>\n",
       "      <td>4.0</td>\n",
       "      <td>6059.0</td>\n",
       "      <td>33668120.0</td>\n",
       "      <td>-117677556.0</td>\n",
       "      <td>1</td>\n",
       "      <td>261.0</td>\n",
       "      <td>...</td>\n",
       "      <td>NaN</td>\n",
       "      <td>NaN</td>\n",
       "      <td>NaN</td>\n",
       "      <td>2.0</td>\n",
       "      <td>468.0</td>\n",
       "      <td>NaN</td>\n",
       "      <td>NaN</td>\n",
       "      <td>NaN</td>\n",
       "      <td>NaN</td>\n",
       "      <td>1.0</td>\n",
       "    </tr>\n",
       "    <tr>\n",
       "      <th>12098116</th>\n",
       "      <td>12098116</td>\n",
       "      <td>-0.0040</td>\n",
       "      <td>2016-01-01</td>\n",
       "      <td>3.0</td>\n",
       "      <td>2.0</td>\n",
       "      <td>6037.0</td>\n",
       "      <td>34136312.0</td>\n",
       "      <td>-118175032.0</td>\n",
       "      <td>0100</td>\n",
       "      <td>261.0</td>\n",
       "      <td>...</td>\n",
       "      <td>4.0</td>\n",
       "      <td>2.0</td>\n",
       "      <td>275411.0</td>\n",
       "      <td>NaN</td>\n",
       "      <td>NaN</td>\n",
       "      <td>1.0</td>\n",
       "      <td>NaN</td>\n",
       "      <td>NaN</td>\n",
       "      <td>NaN</td>\n",
       "      <td>NaN</td>\n",
       "    </tr>\n",
       "    <tr>\n",
       "      <th>12643413</th>\n",
       "      <td>12643413</td>\n",
       "      <td>0.0218</td>\n",
       "      <td>2016-01-02</td>\n",
       "      <td>2.0</td>\n",
       "      <td>2.0</td>\n",
       "      <td>6037.0</td>\n",
       "      <td>33755800.0</td>\n",
       "      <td>-118309000.0</td>\n",
       "      <td>010C</td>\n",
       "      <td>266.0</td>\n",
       "      <td>...</td>\n",
       "      <td>4.0</td>\n",
       "      <td>2.0</td>\n",
       "      <td>54300.0</td>\n",
       "      <td>NaN</td>\n",
       "      <td>NaN</td>\n",
       "      <td>1.0</td>\n",
       "      <td>NaN</td>\n",
       "      <td>NaN</td>\n",
       "      <td>NaN</td>\n",
       "      <td>NaN</td>\n",
       "    </tr>\n",
       "    <tr>\n",
       "      <th>14432541</th>\n",
       "      <td>14432541</td>\n",
       "      <td>-0.0050</td>\n",
       "      <td>2016-01-02</td>\n",
       "      <td>2.5</td>\n",
       "      <td>4.0</td>\n",
       "      <td>6059.0</td>\n",
       "      <td>33485643.0</td>\n",
       "      <td>-117700234.0</td>\n",
       "      <td>122</td>\n",
       "      <td>261.0</td>\n",
       "      <td>...</td>\n",
       "      <td>NaN</td>\n",
       "      <td>NaN</td>\n",
       "      <td>NaN</td>\n",
       "      <td>2.0</td>\n",
       "      <td>598.0</td>\n",
       "      <td>NaN</td>\n",
       "      <td>2.0</td>\n",
       "      <td>1.0</td>\n",
       "      <td>1.0</td>\n",
       "      <td>1.0</td>\n",
       "    </tr>\n",
       "    <tr>\n",
       "      <th>11509835</th>\n",
       "      <td>11509835</td>\n",
       "      <td>-0.2705</td>\n",
       "      <td>2016-01-02</td>\n",
       "      <td>4.0</td>\n",
       "      <td>4.0</td>\n",
       "      <td>6037.0</td>\n",
       "      <td>33870089.0</td>\n",
       "      <td>-118402768.0</td>\n",
       "      <td>0100</td>\n",
       "      <td>261.0</td>\n",
       "      <td>...</td>\n",
       "      <td>1.0</td>\n",
       "      <td>2.0</td>\n",
       "      <td>NaN</td>\n",
       "      <td>NaN</td>\n",
       "      <td>NaN</td>\n",
       "      <td>1.0</td>\n",
       "      <td>NaN</td>\n",
       "      <td>NaN</td>\n",
       "      <td>NaN</td>\n",
       "      <td>NaN</td>\n",
       "    </tr>\n",
       "    <tr>\n",
       "      <th>12286022</th>\n",
       "      <td>12286022</td>\n",
       "      <td>0.0440</td>\n",
       "      <td>2016-01-02</td>\n",
       "      <td>1.0</td>\n",
       "      <td>2.0</td>\n",
       "      <td>6037.0</td>\n",
       "      <td>33899475.0</td>\n",
       "      <td>-118212720.0</td>\n",
       "      <td>0100</td>\n",
       "      <td>261.0</td>\n",
       "      <td>...</td>\n",
       "      <td>7.0</td>\n",
       "      <td>7.0</td>\n",
       "      <td>NaN</td>\n",
       "      <td>NaN</td>\n",
       "      <td>NaN</td>\n",
       "      <td>NaN</td>\n",
       "      <td>NaN</td>\n",
       "      <td>NaN</td>\n",
       "      <td>NaN</td>\n",
       "      <td>NaN</td>\n",
       "    </tr>\n",
       "    <tr>\n",
       "      <th>17177301</th>\n",
       "      <td>17177301</td>\n",
       "      <td>0.1638</td>\n",
       "      <td>2016-01-02</td>\n",
       "      <td>2.5</td>\n",
       "      <td>3.0</td>\n",
       "      <td>6111.0</td>\n",
       "      <td>34207204.0</td>\n",
       "      <td>-119165589.0</td>\n",
       "      <td>1129</td>\n",
       "      <td>266.0</td>\n",
       "      <td>...</td>\n",
       "      <td>NaN</td>\n",
       "      <td>NaN</td>\n",
       "      <td>NaN</td>\n",
       "      <td>2.0</td>\n",
       "      <td>0.0</td>\n",
       "      <td>NaN</td>\n",
       "      <td>2.0</td>\n",
       "      <td>NaN</td>\n",
       "      <td>NaN</td>\n",
       "      <td>1.0</td>\n",
       "    </tr>\n",
       "    <tr>\n",
       "      <th>14739064</th>\n",
       "      <td>14739064</td>\n",
       "      <td>-0.0030</td>\n",
       "      <td>2016-01-02</td>\n",
       "      <td>1.0</td>\n",
       "      <td>2.0</td>\n",
       "      <td>6059.0</td>\n",
       "      <td>33549600.0</td>\n",
       "      <td>-117678000.0</td>\n",
       "      <td>34</td>\n",
       "      <td>266.0</td>\n",
       "      <td>...</td>\n",
       "      <td>NaN</td>\n",
       "      <td>NaN</td>\n",
       "      <td>NaN</td>\n",
       "      <td>1.0</td>\n",
       "      <td>0.0</td>\n",
       "      <td>NaN</td>\n",
       "      <td>NaN</td>\n",
       "      <td>NaN</td>\n",
       "      <td>NaN</td>\n",
       "      <td>NaN</td>\n",
       "    </tr>\n",
       "    <tr>\n",
       "      <th>14677559</th>\n",
       "      <td>14677559</td>\n",
       "      <td>0.0843</td>\n",
       "      <td>2016-01-03</td>\n",
       "      <td>2.0</td>\n",
       "      <td>2.0</td>\n",
       "      <td>6059.0</td>\n",
       "      <td>33612700.0</td>\n",
       "      <td>-117742000.0</td>\n",
       "      <td>34</td>\n",
       "      <td>266.0</td>\n",
       "      <td>...</td>\n",
       "      <td>NaN</td>\n",
       "      <td>NaN</td>\n",
       "      <td>NaN</td>\n",
       "      <td>1.0</td>\n",
       "      <td>0.0</td>\n",
       "      <td>NaN</td>\n",
       "      <td>1.0</td>\n",
       "      <td>NaN</td>\n",
       "      <td>NaN</td>\n",
       "      <td>NaN</td>\n",
       "    </tr>\n",
       "    <tr>\n",
       "      <th>10854446</th>\n",
       "      <td>10854446</td>\n",
       "      <td>0.3825</td>\n",
       "      <td>2016-01-03</td>\n",
       "      <td>2.0</td>\n",
       "      <td>2.0</td>\n",
       "      <td>6037.0</td>\n",
       "      <td>34164671.0</td>\n",
       "      <td>-118477995.0</td>\n",
       "      <td>0100</td>\n",
       "      <td>261.0</td>\n",
       "      <td>...</td>\n",
       "      <td>7.0</td>\n",
       "      <td>2.0</td>\n",
       "      <td>51906.0</td>\n",
       "      <td>NaN</td>\n",
       "      <td>NaN</td>\n",
       "      <td>NaN</td>\n",
       "      <td>NaN</td>\n",
       "      <td>NaN</td>\n",
       "      <td>NaN</td>\n",
       "      <td>NaN</td>\n",
       "    </tr>\n",
       "    <tr>\n",
       "      <th>11672170</th>\n",
       "      <td>11672170</td>\n",
       "      <td>-0.0161</td>\n",
       "      <td>2016-01-03</td>\n",
       "      <td>4.0</td>\n",
       "      <td>5.0</td>\n",
       "      <td>6037.0</td>\n",
       "      <td>34072220.0</td>\n",
       "      <td>-118547322.0</td>\n",
       "      <td>0100</td>\n",
       "      <td>261.0</td>\n",
       "      <td>...</td>\n",
       "      <td>1.0</td>\n",
       "      <td>2.0</td>\n",
       "      <td>19810.0</td>\n",
       "      <td>NaN</td>\n",
       "      <td>NaN</td>\n",
       "      <td>1.0</td>\n",
       "      <td>NaN</td>\n",
       "      <td>NaN</td>\n",
       "      <td>NaN</td>\n",
       "      <td>NaN</td>\n",
       "    </tr>\n",
       "    <tr>\n",
       "      <th>10949761</th>\n",
       "      <td>10949761</td>\n",
       "      <td>0.0344</td>\n",
       "      <td>2016-01-03</td>\n",
       "      <td>2.0</td>\n",
       "      <td>3.0</td>\n",
       "      <td>6037.0</td>\n",
       "      <td>34189804.0</td>\n",
       "      <td>-118339183.0</td>\n",
       "      <td>0100</td>\n",
       "      <td>261.0</td>\n",
       "      <td>...</td>\n",
       "      <td>7.0</td>\n",
       "      <td>7.0</td>\n",
       "      <td>NaN</td>\n",
       "      <td>NaN</td>\n",
       "      <td>NaN</td>\n",
       "      <td>NaN</td>\n",
       "      <td>NaN</td>\n",
       "      <td>NaN</td>\n",
       "      <td>NaN</td>\n",
       "      <td>NaN</td>\n",
       "    </tr>\n",
       "    <tr>\n",
       "      <th>14665244</th>\n",
       "      <td>14665244</td>\n",
       "      <td>0.0816</td>\n",
       "      <td>2016-01-03</td>\n",
       "      <td>2.0</td>\n",
       "      <td>2.0</td>\n",
       "      <td>6059.0</td>\n",
       "      <td>33670900.0</td>\n",
       "      <td>-117844000.0</td>\n",
       "      <td>1</td>\n",
       "      <td>266.0</td>\n",
       "      <td>...</td>\n",
       "      <td>NaN</td>\n",
       "      <td>NaN</td>\n",
       "      <td>273096.0</td>\n",
       "      <td>NaN</td>\n",
       "      <td>NaN</td>\n",
       "      <td>NaN</td>\n",
       "      <td>NaN</td>\n",
       "      <td>NaN</td>\n",
       "      <td>NaN</td>\n",
       "      <td>NaN</td>\n",
       "    </tr>\n",
       "    <tr>\n",
       "      <th>14148540</th>\n",
       "      <td>14148540</td>\n",
       "      <td>-0.0450</td>\n",
       "      <td>2016-01-03</td>\n",
       "      <td>2.0</td>\n",
       "      <td>2.0</td>\n",
       "      <td>6059.0</td>\n",
       "      <td>33913333.0</td>\n",
       "      <td>-117914140.0</td>\n",
       "      <td>122</td>\n",
       "      <td>261.0</td>\n",
       "      <td>...</td>\n",
       "      <td>NaN</td>\n",
       "      <td>NaN</td>\n",
       "      <td>NaN</td>\n",
       "      <td>2.0</td>\n",
       "      <td>400.0</td>\n",
       "      <td>NaN</td>\n",
       "      <td>1.0</td>\n",
       "      <td>NaN</td>\n",
       "      <td>NaN</td>\n",
       "      <td>NaN</td>\n",
       "    </tr>\n",
       "    <tr>\n",
       "      <th>14057104</th>\n",
       "      <td>14057104</td>\n",
       "      <td>0.0020</td>\n",
       "      <td>2016-01-03</td>\n",
       "      <td>2.0</td>\n",
       "      <td>3.0</td>\n",
       "      <td>6059.0</td>\n",
       "      <td>33676787.0</td>\n",
       "      <td>-117950591.0</td>\n",
       "      <td>122</td>\n",
       "      <td>261.0</td>\n",
       "      <td>...</td>\n",
       "      <td>NaN</td>\n",
       "      <td>6.0</td>\n",
       "      <td>NaN</td>\n",
       "      <td>2.0</td>\n",
       "      <td>471.0</td>\n",
       "      <td>5.0</td>\n",
       "      <td>1.0</td>\n",
       "      <td>NaN</td>\n",
       "      <td>NaN</td>\n",
       "      <td>NaN</td>\n",
       "    </tr>\n",
       "    <tr>\n",
       "      <th>17296797</th>\n",
       "      <td>17296797</td>\n",
       "      <td>0.0440</td>\n",
       "      <td>2016-01-03</td>\n",
       "      <td>2.5</td>\n",
       "      <td>3.0</td>\n",
       "      <td>6111.0</td>\n",
       "      <td>34176362.0</td>\n",
       "      <td>-118757591.0</td>\n",
       "      <td>1128</td>\n",
       "      <td>265.0</td>\n",
       "      <td>...</td>\n",
       "      <td>NaN</td>\n",
       "      <td>NaN</td>\n",
       "      <td>NaN</td>\n",
       "      <td>2.0</td>\n",
       "      <td>0.0</td>\n",
       "      <td>NaN</td>\n",
       "      <td>2.0</td>\n",
       "      <td>NaN</td>\n",
       "      <td>NaN</td>\n",
       "      <td>1.0</td>\n",
       "    </tr>\n",
       "    <tr>\n",
       "      <th>12524288</th>\n",
       "      <td>12524288</td>\n",
       "      <td>-0.0419</td>\n",
       "      <td>2016-01-03</td>\n",
       "      <td>1.0</td>\n",
       "      <td>1.0</td>\n",
       "      <td>6037.0</td>\n",
       "      <td>33776400.0</td>\n",
       "      <td>-118123000.0</td>\n",
       "      <td>010E</td>\n",
       "      <td>266.0</td>\n",
       "      <td>...</td>\n",
       "      <td>7.0</td>\n",
       "      <td>2.0</td>\n",
       "      <td>274961.0</td>\n",
       "      <td>NaN</td>\n",
       "      <td>NaN</td>\n",
       "      <td>NaN</td>\n",
       "      <td>NaN</td>\n",
       "      <td>1.0</td>\n",
       "      <td>1.0</td>\n",
       "      <td>NaN</td>\n",
       "    </tr>\n",
       "    <tr>\n",
       "      <th>14091502</th>\n",
       "      <td>14091502</td>\n",
       "      <td>-0.0020</td>\n",
       "      <td>2016-01-03</td>\n",
       "      <td>2.0</td>\n",
       "      <td>3.0</td>\n",
       "      <td>6059.0</td>\n",
       "      <td>33770148.0</td>\n",
       "      <td>-118021281.0</td>\n",
       "      <td>122</td>\n",
       "      <td>261.0</td>\n",
       "      <td>...</td>\n",
       "      <td>NaN</td>\n",
       "      <td>NaN</td>\n",
       "      <td>NaN</td>\n",
       "      <td>2.0</td>\n",
       "      <td>462.0</td>\n",
       "      <td>NaN</td>\n",
       "      <td>1.0</td>\n",
       "      <td>NaN</td>\n",
       "      <td>NaN</td>\n",
       "      <td>NaN</td>\n",
       "    </tr>\n",
       "    <tr>\n",
       "      <th>10815909</th>\n",
       "      <td>10815909</td>\n",
       "      <td>0.0100</td>\n",
       "      <td>2016-01-03</td>\n",
       "      <td>3.0</td>\n",
       "      <td>3.0</td>\n",
       "      <td>6037.0</td>\n",
       "      <td>34164085.0</td>\n",
       "      <td>-118528595.0</td>\n",
       "      <td>0100</td>\n",
       "      <td>261.0</td>\n",
       "      <td>...</td>\n",
       "      <td>4.0</td>\n",
       "      <td>2.0</td>\n",
       "      <td>47950.0</td>\n",
       "      <td>NaN</td>\n",
       "      <td>NaN</td>\n",
       "      <td>1.0</td>\n",
       "      <td>NaN</td>\n",
       "      <td>NaN</td>\n",
       "      <td>NaN</td>\n",
       "      <td>NaN</td>\n",
       "    </tr>\n",
       "  </tbody>\n",
       "</table>\n",
       "<p>20 rows × 39 columns</p>\n",
       "</div>"
      ],
      "text/plain": [
       "          parcelid  logerror transactiondate  bathroomcnt  bedroomcnt    fips  \\\n",
       "parcelid                                                                        \n",
       "11016594  11016594    0.0276      2016-01-01          2.0         3.0  6037.0   \n",
       "14366692  14366692   -0.1684      2016-01-01          3.5         4.0  6059.0   \n",
       "12098116  12098116   -0.0040      2016-01-01          3.0         2.0  6037.0   \n",
       "12643413  12643413    0.0218      2016-01-02          2.0         2.0  6037.0   \n",
       "14432541  14432541   -0.0050      2016-01-02          2.5         4.0  6059.0   \n",
       "11509835  11509835   -0.2705      2016-01-02          4.0         4.0  6037.0   \n",
       "12286022  12286022    0.0440      2016-01-02          1.0         2.0  6037.0   \n",
       "17177301  17177301    0.1638      2016-01-02          2.5         3.0  6111.0   \n",
       "14739064  14739064   -0.0030      2016-01-02          1.0         2.0  6059.0   \n",
       "14677559  14677559    0.0843      2016-01-03          2.0         2.0  6059.0   \n",
       "10854446  10854446    0.3825      2016-01-03          2.0         2.0  6037.0   \n",
       "11672170  11672170   -0.0161      2016-01-03          4.0         5.0  6037.0   \n",
       "10949761  10949761    0.0344      2016-01-03          2.0         3.0  6037.0   \n",
       "14665244  14665244    0.0816      2016-01-03          2.0         2.0  6059.0   \n",
       "14148540  14148540   -0.0450      2016-01-03          2.0         2.0  6059.0   \n",
       "14057104  14057104    0.0020      2016-01-03          2.0         3.0  6059.0   \n",
       "17296797  17296797    0.0440      2016-01-03          2.5         3.0  6111.0   \n",
       "12524288  12524288   -0.0419      2016-01-03          1.0         1.0  6037.0   \n",
       "14091502  14091502   -0.0020      2016-01-03          2.0         3.0  6059.0   \n",
       "10815909  10815909    0.0100      2016-01-03          3.0         3.0  6037.0   \n",
       "\n",
       "            latitude    longitude propertycountylandusecode  \\\n",
       "parcelid                                                      \n",
       "11016594  34280990.0 -118488536.0                      0100   \n",
       "14366692  33668120.0 -117677556.0                         1   \n",
       "12098116  34136312.0 -118175032.0                      0100   \n",
       "12643413  33755800.0 -118309000.0                      010C   \n",
       "14432541  33485643.0 -117700234.0                       122   \n",
       "11509835  33870089.0 -118402768.0                      0100   \n",
       "12286022  33899475.0 -118212720.0                      0100   \n",
       "17177301  34207204.0 -119165589.0                      1129   \n",
       "14739064  33549600.0 -117678000.0                        34   \n",
       "14677559  33612700.0 -117742000.0                        34   \n",
       "10854446  34164671.0 -118477995.0                      0100   \n",
       "11672170  34072220.0 -118547322.0                      0100   \n",
       "10949761  34189804.0 -118339183.0                      0100   \n",
       "14665244  33670900.0 -117844000.0                         1   \n",
       "14148540  33913333.0 -117914140.0                       122   \n",
       "14057104  33676787.0 -117950591.0                       122   \n",
       "17296797  34176362.0 -118757591.0                      1128   \n",
       "12524288  33776400.0 -118123000.0                      010E   \n",
       "14091502  33770148.0 -118021281.0                       122   \n",
       "10815909  34164085.0 -118528595.0                      0100   \n",
       "\n",
       "          propertylandusetypeid         ...           buildingqualitytypeid  \\\n",
       "parcelid                                ...                                   \n",
       "11016594                  261.0         ...                             4.0   \n",
       "14366692                  261.0         ...                             NaN   \n",
       "12098116                  261.0         ...                             4.0   \n",
       "12643413                  266.0         ...                             4.0   \n",
       "14432541                  261.0         ...                             NaN   \n",
       "11509835                  261.0         ...                             1.0   \n",
       "12286022                  261.0         ...                             7.0   \n",
       "17177301                  266.0         ...                             NaN   \n",
       "14739064                  266.0         ...                             NaN   \n",
       "14677559                  266.0         ...                             NaN   \n",
       "10854446                  261.0         ...                             7.0   \n",
       "11672170                  261.0         ...                             1.0   \n",
       "10949761                  261.0         ...                             7.0   \n",
       "14665244                  266.0         ...                             NaN   \n",
       "14148540                  261.0         ...                             NaN   \n",
       "14057104                  261.0         ...                             NaN   \n",
       "17296797                  265.0         ...                             NaN   \n",
       "12524288                  266.0         ...                             7.0   \n",
       "14091502                  261.0         ...                             NaN   \n",
       "10815909                  261.0         ...                             4.0   \n",
       "\n",
       "          heatingorsystemtypeid  regionidneighborhood  garagecarcnt  \\\n",
       "parcelid                                                              \n",
       "11016594                    2.0               31817.0           NaN   \n",
       "14366692                    NaN                   NaN           2.0   \n",
       "12098116                    2.0              275411.0           NaN   \n",
       "12643413                    2.0               54300.0           NaN   \n",
       "14432541                    NaN                   NaN           2.0   \n",
       "11509835                    2.0                   NaN           NaN   \n",
       "12286022                    7.0                   NaN           NaN   \n",
       "17177301                    NaN                   NaN           2.0   \n",
       "14739064                    NaN                   NaN           1.0   \n",
       "14677559                    NaN                   NaN           1.0   \n",
       "10854446                    2.0               51906.0           NaN   \n",
       "11672170                    2.0               19810.0           NaN   \n",
       "10949761                    7.0                   NaN           NaN   \n",
       "14665244                    NaN              273096.0           NaN   \n",
       "14148540                    NaN                   NaN           2.0   \n",
       "14057104                    6.0                   NaN           2.0   \n",
       "17296797                    NaN                   NaN           2.0   \n",
       "12524288                    2.0              274961.0           NaN   \n",
       "14091502                    NaN                   NaN           2.0   \n",
       "10815909                    2.0               47950.0           NaN   \n",
       "\n",
       "          garagetotalsqft  airconditioningtypeid  numberofstories  poolcnt  \\\n",
       "parcelid                                                                     \n",
       "11016594              NaN                    1.0              NaN      NaN   \n",
       "14366692            468.0                    NaN              NaN      NaN   \n",
       "12098116              NaN                    1.0              NaN      NaN   \n",
       "12643413              NaN                    1.0              NaN      NaN   \n",
       "14432541            598.0                    NaN              2.0      1.0   \n",
       "11509835              NaN                    1.0              NaN      NaN   \n",
       "12286022              NaN                    NaN              NaN      NaN   \n",
       "17177301              0.0                    NaN              2.0      NaN   \n",
       "14739064              0.0                    NaN              NaN      NaN   \n",
       "14677559              0.0                    NaN              1.0      NaN   \n",
       "10854446              NaN                    NaN              NaN      NaN   \n",
       "11672170              NaN                    1.0              NaN      NaN   \n",
       "10949761              NaN                    NaN              NaN      NaN   \n",
       "14665244              NaN                    NaN              NaN      NaN   \n",
       "14148540            400.0                    NaN              1.0      NaN   \n",
       "14057104            471.0                    5.0              1.0      NaN   \n",
       "17296797              0.0                    NaN              2.0      NaN   \n",
       "12524288              NaN                    NaN              NaN      1.0   \n",
       "14091502            462.0                    NaN              1.0      NaN   \n",
       "10815909              NaN                    1.0              NaN      NaN   \n",
       "\n",
       "          pooltypeid7  threequarterbathnbr  \n",
       "parcelid                                    \n",
       "11016594          NaN                  NaN  \n",
       "14366692          NaN                  1.0  \n",
       "12098116          NaN                  NaN  \n",
       "12643413          NaN                  NaN  \n",
       "14432541          1.0                  1.0  \n",
       "11509835          NaN                  NaN  \n",
       "12286022          NaN                  NaN  \n",
       "17177301          NaN                  1.0  \n",
       "14739064          NaN                  NaN  \n",
       "14677559          NaN                  NaN  \n",
       "10854446          NaN                  NaN  \n",
       "11672170          NaN                  NaN  \n",
       "10949761          NaN                  NaN  \n",
       "14665244          NaN                  NaN  \n",
       "14148540          NaN                  NaN  \n",
       "14057104          NaN                  NaN  \n",
       "17296797          NaN                  1.0  \n",
       "12524288          1.0                  NaN  \n",
       "14091502          NaN                  NaN  \n",
       "10815909          NaN                  NaN  \n",
       "\n",
       "[20 rows x 39 columns]"
      ]
     },
     "execution_count": 119,
     "metadata": {},
     "output_type": "execute_result"
    }
   ],
   "source": [
    "df.head(20)"
   ]
  },
  {
   "cell_type": "markdown",
   "metadata": {},
   "source": [
    "I want to keep working with this `df` object in this notebook, but I will write the `df` object to the database so that I can access it later. "
   ]
  },
  {
   "cell_type": "code",
   "execution_count": 120,
   "metadata": {},
   "outputs": [],
   "source": [
    "# write table to database file \n",
    "conn = sqlite3.connect(helpers.db_path)\n",
    "df.to_sql('trainjoined', conn, index=False, if_exists='replace')\n",
    "conn.close()"
   ]
  },
  {
   "cell_type": "markdown",
   "metadata": {},
   "source": [
    "# Dealing with Missing Values \n",
    "\n",
    "In my experience, this is a challenging aspect of data science in general, and the kaggle dataset has a lot of missing values. \n",
    "\n",
    "I want to improve my methods and thinking on this topic. I found a good kernel on Kaggle which is a tutorial for dealing with missing variables in this dataset. Here is the link [Carefully dealing with missing values][1]. I've also included a downloaded version of the dataset in this repo. \n",
    "\n",
    "I'm going to walk through this and try to replicate and understand the actions in Nikunj's notebook. \n",
    "\n",
    "I'll summarize the writing in Nikunj's notebook in my own words as I'm working through this - therefore just to be clear, most of the work below this cell won't be my own work and should be credited to Nikunj. \n",
    "\n",
    "[1]:https://www.kaggle.com/nikunjm88/carefully-dealing-with-missing-values"
   ]
  },
  {
   "cell_type": "markdown",
   "metadata": {},
   "source": [
    "## Pruning Redundant Variables"
   ]
  },
  {
   "cell_type": "markdown",
   "metadata": {
    "collapsed": true
   },
   "source": [
    "This notebook is a demonstration for how to deal with missing values - by carefully using the data that we already have and making certain assumptions. These approaches are better than filling in the medians for the fields or letting models with with the in a default manner. \n",
    "\n",
    "There are some columns which are highly correlated and can be removed, and some data which isn't correct. \n",
    "\n",
    "Ideally, one would carry out some cross validation on the model after each step is taken, to evaluate if the step contributed to the model or not (this isn't done in this notebook)."
   ]
  },
  {
   "cell_type": "code",
   "execution_count": 121,
   "metadata": {},
   "outputs": [],
   "source": [
    "# imports \n",
    "import numpy as np\n",
    "import pandas as pd\n",
    "from sklearn import neighbors\n",
    "import seaborn as sns\n",
    "from sklearn.neighbors import KNeighborsRegressor\n",
    "from sklearn.preprocessing import OneHotEncoder\n",
    "from sklearn.preprocessing import StandardScaler\n",
    "from sklearn.preprocessing import LabelEncoder\n",
    "import matplotlib.pyplot as pyplot"
   ]
  },
  {
   "cell_type": "markdown",
   "metadata": {},
   "source": [
    "Create a heatmap of numerical columns to look for correlations."
   ]
  },
  {
   "cell_type": "code",
   "execution_count": 122,
   "metadata": {},
   "outputs": [],
   "source": [
    "# exclude categorical or nonsensical columns from the heatmap\n",
    "numerical_cols = [\n",
    "    'logerror',\n",
    "    'bathroomcnt',\n",
    "    'bedroomcnt',\n",
    "    'roomcnt',\n",
    "    'taxvaluedollarcnt',\n",
    "    'assessmentyear',\n",
    "    'landtaxvaluedollarcnt',\n",
    "    'taxamount',\n",
    "    'structuretaxvaluedollarcnt',\n",
    "    'calculatedfinishedsquarefeet',\n",
    "    'yearbuilt',\n",
    "    'calculatedbathnbr',\n",
    "    'fullbathcnt',\n",
    "    'finishedsquarefeet12',\n",
    "    'lotsizesquarefeet',\n",
    "    'unitcnt',\n",
    "    'garagecarcnt',\n",
    "    'garagetotalsqft',\n",
    "    'numberofstories',\n",
    "    'poolcnt',\n",
    "    'threequarterbathnbr']"
   ]
  },
  {
   "cell_type": "code",
   "execution_count": 123,
   "metadata": {},
   "outputs": [
    {
     "data": {
      "text/plain": [
       "<matplotlib.figure.Figure at 0x14c4e750fd0>"
      ]
     },
     "metadata": {},
     "output_type": "display_data"
    },
    {
     "data": {
      "image/png": "[encoded data removed]",
      "text/plain": [
       "<matplotlib.figure.Figure at 0x14c5a450a58>"
      ]
     },
     "metadata": {},
     "output_type": "display_data"
    }
   ],
   "source": [
    "# create a heatmap \n",
    "pyplot.figure(figsize = (12,8))\n",
    "sns.heatmap(data=df[numerical_cols].corr())\n",
    "#pyplot.savefig(downloads + 'fig.png')\n",
    "pyplot.show()\n",
    "pyplot.gcf().clear()"
   ]
  },
  {
   "cell_type": "markdown",
   "metadata": {},
   "source": [
    "Some of these are highly correlated and probably redunant. Let's look at some correlated pairs.\n",
    "\n",
    "`bathroomcnt` is has a strong correlation with `bedroomcnt`, but this doesn't seem to mean that these variables are redundant. Similar relationship between `bathroomcnt` and `taxvaluedollarcnt`, `calculatedfinishedsquarefeet`. \n",
    "\n",
    "`bathroomcnt` and `calculatedbathnbr` and `fullbathcnt` are correlated and seem to be redundant. Let's look at the number of missing values in each and the descriptions of each. "
   ]
  },
  {
   "cell_type": "code",
   "execution_count": 124,
   "metadata": {
    "collapsed": true
   },
   "outputs": [],
   "source": [
    "# creat list of columns for inspection\n",
    "correlated = ['bathroomcnt', 'calculatedbathnbr', 'fullbathcnt']"
   ]
  },
  {
   "cell_type": "code",
   "execution_count": 125,
   "metadata": {},
   "outputs": [],
   "source": [
    "def inspect(alist):\n",
    "    \"\"\"Inspects a list of variables for description, prescence\"\"\"\n",
    "    helpers.nan_summary(df, alist)\n",
    "    print('')\n",
    "    for var in alist:\n",
    "        print(var, ' - ', names[names.feature == var]['description'].values[0])\n",
    "        print('')\n",
    "    print('')\n",
    "    pyplot.figure(figsize = (12,8))\n",
    "    sns.heatmap(data=df[alist].corr())\n",
    "    pyplot.show()\n",
    "    pyplot.gcf().clear()\n",
    "    print('')\n",
    "    print(df[alist].corr())"
   ]
  },
  {
   "cell_type": "code",
   "execution_count": 126,
   "metadata": {},
   "outputs": [
    {
     "name": "stdout",
     "output_type": "stream",
     "text": [
      "length of entire df: 90275\n",
      "0.0 percent null in bathroomcnt (90275 notnull)\n",
      "1.31 percent null in calculatedbathnbr (89093 notnull)\n",
      "1.31 percent null in fullbathcnt (89093 notnull)\n",
      "\n",
      "bathroomcnt  -   Number of bathrooms in home including fractional bathrooms\n",
      "\n",
      "calculatedbathnbr  -   Number of bathrooms in home including fractional bathroom\n",
      "\n",
      "fullbathcnt  -   Number of full bathrooms (sink, shower + bathtub, and toilet) present in home\n",
      "\n",
      "\n"
     ]
    },
    {
     "data": {
      "text/plain": [
       "<matplotlib.figure.Figure at 0x14c5a450e10>"
      ]
     },
     "metadata": {},
     "output_type": "display_data"
    },
    {
     "data": {
      "image/png": "[encoded data removed]",
      "text/plain": [
       "<matplotlib.figure.Figure at 0x14c4eeea6a0>"
      ]
     },
     "metadata": {},
     "output_type": "display_data"
    },
    {
     "name": "stdout",
     "output_type": "stream",
     "text": [
      "\n",
      "                   bathroomcnt  calculatedbathnbr  fullbathcnt\n",
      "bathroomcnt            1.00000            1.00000      0.98413\n",
      "calculatedbathnbr      1.00000            1.00000      0.98413\n",
      "fullbathcnt            0.98413            0.98413      1.00000\n"
     ]
    }
   ],
   "source": [
    "inspect(correlated)"
   ]
  },
  {
   "cell_type": "markdown",
   "metadata": {
    "collapsed": true
   },
   "source": [
    "Since we have `fullbathcnt` and `bathroomcnt`, we might be able to create a new column called `nonfullbathcnt` or something like this, however we have `threequarterbathnbr`, which doesn't seem to be correlated.\n",
    "\n",
    "So I will drop the `fullbathcnt` and `calculatedbathnbr` columns:"
   ]
  },
  {
   "cell_type": "code",
   "execution_count": 127,
   "metadata": {
    "collapsed": true
   },
   "outputs": [],
   "source": [
    "drop = ['fullbathcnt', 'calculatedbathnbr']"
   ]
  },
  {
   "cell_type": "markdown",
   "metadata": {},
   "source": [
    "I see four different tax metrics which are highly correlated:"
   ]
  },
  {
   "cell_type": "code",
   "execution_count": 128,
   "metadata": {
    "collapsed": true
   },
   "outputs": [],
   "source": [
    "correlated = [\n",
    "    'taxvaluedollarcnt', \n",
    "    'landtaxvaluedollarcnt', \n",
    "    'taxamount', \n",
    "    'structuretaxvaluedollarcnt']"
   ]
  },
  {
   "cell_type": "code",
   "execution_count": 129,
   "metadata": {},
   "outputs": [
    {
     "name": "stdout",
     "output_type": "stream",
     "text": [
      "length of entire df: 90275\n",
      "0.0 percent null in taxvaluedollarcnt (90274 notnull)\n",
      "0.0 percent null in landtaxvaluedollarcnt (90274 notnull)\n",
      "0.01 percent null in taxamount (90269 notnull)\n",
      "0.42 percent null in structuretaxvaluedollarcnt (89895 notnull)\n",
      "\n",
      "taxvaluedollarcnt  -  The total tax assessed value of the parcel\n",
      "\n",
      "landtaxvaluedollarcnt  -  The assessed value of the land area of the parcel\n",
      "\n",
      "taxamount  -  The total property tax assessed for that assessment year\n",
      "\n",
      "structuretaxvaluedollarcnt  -  The assessed value of the built structure on the parcel\n",
      "\n",
      "\n"
     ]
    },
    {
     "data": {
      "text/plain": [
       "<matplotlib.figure.Figure at 0x14c492d5710>"
      ]
     },
     "metadata": {},
     "output_type": "display_data"
    },
    {
     "data": {
      "image/png": "[encoded data removed]",
      "text/plain": [
       "<matplotlib.figure.Figure at 0x14c49e3b7f0>"
      ]
     },
     "metadata": {},
     "output_type": "display_data"
    },
    {
     "name": "stdout",
     "output_type": "stream",
     "text": [
      "\n",
      "                            taxvaluedollarcnt  landtaxvaluedollarcnt  \\\n",
      "taxvaluedollarcnt                    1.000000               0.955336   \n",
      "landtaxvaluedollarcnt                0.955336               1.000000   \n",
      "taxamount                            0.949376               0.902713   \n",
      "structuretaxvaluedollarcnt           0.826052               0.623292   \n",
      "\n",
      "                            taxamount  structuretaxvaluedollarcnt  \n",
      "taxvaluedollarcnt            0.949376                    0.826052  \n",
      "landtaxvaluedollarcnt        0.902713                    0.623292  \n",
      "taxamount                    1.000000                    0.795014  \n",
      "structuretaxvaluedollarcnt   0.795014                    1.000000  \n"
     ]
    }
   ],
   "source": [
    "inspect(correlated)"
   ]
  },
  {
   "cell_type": "markdown",
   "metadata": {},
   "source": [
    "The `taxvaluedollarcnt` value is correlated to the rest of the tax-related columns, and judging by their description the other tax value columns aren't very different from the others. \n",
    "\n",
    "So we will keep `taxvaluecollarcnt` and remove the others"
   ]
  },
  {
   "cell_type": "code",
   "execution_count": 130,
   "metadata": {},
   "outputs": [],
   "source": [
    "# add column names to the drop list\n",
    "drop.extend([x for x in correlated if x != 'taxvaluedollarcnt'])"
   ]
  },
  {
   "cell_type": "code",
   "execution_count": 131,
   "metadata": {},
   "outputs": [
    {
     "data": {
      "text/plain": [
       "['fullbathcnt',\n",
       " 'calculatedbathnbr',\n",
       " 'landtaxvaluedollarcnt',\n",
       " 'taxamount',\n",
       " 'structuretaxvaluedollarcnt']"
      ]
     },
     "execution_count": 131,
     "metadata": {},
     "output_type": "execute_result"
    }
   ],
   "source": [
    "drop"
   ]
  },
  {
   "cell_type": "markdown",
   "metadata": {
    "collapsed": true
   },
   "source": [
    "The `calculatedfinishedsquarefeet` metric is correlated to several variables, but some of these are \"natural\" correlations contra redundencies. \n",
    "\n",
    "Some of these are redundant variables:"
   ]
  },
  {
   "cell_type": "code",
   "execution_count": 132,
   "metadata": {
    "collapsed": true
   },
   "outputs": [],
   "source": [
    "correlated = [\n",
    "    'calculatedfinishedsquarefeet', \n",
    "    'finishedsquarefeet12', \n",
    "    'lotsizesquarefeet']"
   ]
  },
  {
   "cell_type": "code",
   "execution_count": 133,
   "metadata": {},
   "outputs": [
    {
     "name": "stdout",
     "output_type": "stream",
     "text": [
      "length of entire df: 90275\n",
      "0.73 percent null in calculatedfinishedsquarefeet (89614 notnull)\n",
      "5.18 percent null in finishedsquarefeet12 (85596 notnull)\n",
      "11.24 percent null in lotsizesquarefeet (80125 notnull)\n",
      "\n",
      "calculatedfinishedsquarefeet  -   Calculated total finished living area of the home \n",
      "\n",
      "finishedsquarefeet12  -  Finished living area\n",
      "\n",
      "lotsizesquarefeet  -   Area of the lot in square feet\n",
      "\n",
      "\n"
     ]
    },
    {
     "data": {
      "text/plain": [
       "<matplotlib.figure.Figure at 0x14c4d535d68>"
      ]
     },
     "metadata": {},
     "output_type": "display_data"
    },
    {
     "data": {
      "image/png": "[encoded data removed]",
      "text/plain": [
       "<matplotlib.figure.Figure at 0x14c4e72cfd0>"
      ]
     },
     "metadata": {},
     "output_type": "display_data"
    },
    {
     "name": "stdout",
     "output_type": "stream",
     "text": [
      "\n",
      "                              calculatedfinishedsquarefeet  \\\n",
      "calculatedfinishedsquarefeet                       1.00000   \n",
      "finishedsquarefeet12                               1.00000   \n",
      "lotsizesquarefeet                                 -0.04877   \n",
      "\n",
      "                              finishedsquarefeet12  lotsizesquarefeet  \n",
      "calculatedfinishedsquarefeet              1.000000          -0.048770  \n",
      "finishedsquarefeet12                      1.000000          -0.046706  \n",
      "lotsizesquarefeet                        -0.046706           1.000000  \n"
     ]
    }
   ],
   "source": [
    "inspect(correlated)"
   ]
  },
  {
   "cell_type": "markdown",
   "metadata": {
    "collapsed": true
   },
   "source": [
    "We can see that `finishedsquarefeet12` and `calculatedfinishedsquarefeet` are perfectly correlated. Interestingly, the `lotsizesquarefeet` is not correlated with either, therefore we can assume that there is useful information there."
   ]
  },
  {
   "cell_type": "code",
   "execution_count": 134,
   "metadata": {
    "collapsed": true
   },
   "outputs": [],
   "source": [
    "# add redundant finsihedsquarefeet column to list of columns to later drop \n",
    "drop.extend(['finishedsquarefeet12'])"
   ]
  },
  {
   "cell_type": "code",
   "execution_count": 135,
   "metadata": {},
   "outputs": [
    {
     "data": {
      "text/plain": [
       "['fullbathcnt',\n",
       " 'calculatedbathnbr',\n",
       " 'landtaxvaluedollarcnt',\n",
       " 'taxamount',\n",
       " 'structuretaxvaluedollarcnt',\n",
       " 'finishedsquarefeet12']"
      ]
     },
     "execution_count": 135,
     "metadata": {},
     "output_type": "execute_result"
    }
   ],
   "source": [
    "drop"
   ]
  },
  {
   "cell_type": "markdown",
   "metadata": {},
   "source": [
    "There are two garage columns which seem to be related:"
   ]
  },
  {
   "cell_type": "code",
   "execution_count": 136,
   "metadata": {},
   "outputs": [
    {
     "data": {
      "text/plain": [
       "['garagecarcnt', 'garagetotalsqft']"
      ]
     },
     "execution_count": 136,
     "metadata": {},
     "output_type": "execute_result"
    }
   ],
   "source": [
    "correlated = [x for x in df.columns if 'garage' in x]\n",
    "correlated"
   ]
  },
  {
   "cell_type": "code",
   "execution_count": 137,
   "metadata": {},
   "outputs": [
    {
     "name": "stdout",
     "output_type": "stream",
     "text": [
      "length of entire df: 90275\n",
      "66.84 percent null in garagecarcnt (29937 notnull)\n",
      "66.84 percent null in garagetotalsqft (29937 notnull)\n",
      "\n",
      "garagecarcnt  -   Total number of garages on the lot including an attached garage\n",
      "\n",
      "garagetotalsqft  -   Total number of square feet of all garages on lot including an attached garage\n",
      "\n",
      "\n"
     ]
    },
    {
     "data": {
      "text/plain": [
       "<matplotlib.figure.Figure at 0x14c4f005c88>"
      ]
     },
     "metadata": {},
     "output_type": "display_data"
    },
    {
     "data": {
      "image/png": "[encoded data removed]",
      "text/plain": [
       "<matplotlib.figure.Figure at 0x14c4d5bb9e8>"
      ]
     },
     "metadata": {},
     "output_type": "display_data"
    },
    {
     "name": "stdout",
     "output_type": "stream",
     "text": [
      "\n",
      "                 garagecarcnt  garagetotalsqft\n",
      "garagecarcnt         1.000000         0.641883\n",
      "garagetotalsqft      0.641883         1.000000\n"
     ]
    }
   ],
   "source": [
    "inspect(correlated)"
   ]
  },
  {
   "cell_type": "markdown",
   "metadata": {
    "collapsed": true
   },
   "source": [
    "So it looks like these two are closely related - but I'm not sure if it makes sense to delete the garage square feet column. I'll leave it for now. "
   ]
  },
  {
   "cell_type": "markdown",
   "metadata": {},
   "source": [
    "Now that I've weeded out certain columns, I'll actually drop them:"
   ]
  },
  {
   "cell_type": "code",
   "execution_count": 103,
   "metadata": {
    "collapsed": true
   },
   "outputs": [],
   "source": [
    "# drop columns identified as redundant in last section\n",
    "df = df[[x for x in df.columns if x not in drop]].copy()"
   ]
  },
  {
   "cell_type": "markdown",
   "metadata": {},
   "source": [
    "## Missing Values in Categorical Columns"
   ]
  },
  {
   "cell_type": "code",
   "execution_count": 138,
   "metadata": {},
   "outputs": [
    {
     "data": {
      "text/plain": [
       "<matplotlib.figure.Figure at 0x14c4d5adb00>"
      ]
     },
     "metadata": {},
     "output_type": "display_data"
    },
    {
     "data": {
      "image/png": "[encoded data removed]",
      "text/plain": [
       "<matplotlib.figure.Figure at 0x14c4dc2d828>"
      ]
     },
     "metadata": {},
     "output_type": "display_data"
    }
   ],
   "source": [
    "missing_values = df.isnull().sum(axis=0).reset_index().copy()\n",
    "missing_values.columns = ['col_name', 'missing_count']\n",
    "\n",
    "index = np.arange(len(missing_values))\n",
    "width = 0.9\n",
    "fig, ax = pyplot.subplots(figsize=(12,18))\n",
    "rects = ax.barh(index, missing_values.missing_count.values, color='blue')\n",
    "ax.set_yticks(index)\n",
    "ax.set_yticklabels(missing_values.col_name.values, rotation='horizontal')\n",
    "ax.set_xlabel('Count of missing values')\n",
    "ax.set_title('Number of missing values in each column')\n",
    "pyplot.show()"
   ]
  },
  {
   "cell_type": "code",
   "execution_count": null,
   "metadata": {
    "collapsed": true
   },
   "outputs": [],
   "source": []
  },
  {
   "cell_type": "code",
   "execution_count": null,
   "metadata": {
    "collapsed": true
   },
   "outputs": [],
   "source": []
  },
  {
   "cell_type": "code",
   "execution_count": null,
   "metadata": {
    "collapsed": true
   },
   "outputs": [],
   "source": []
  },
  {
   "cell_type": "code",
   "execution_count": null,
   "metadata": {
    "collapsed": true
   },
   "outputs": [],
   "source": []
  },
  {
   "cell_type": "code",
   "execution_count": null,
   "metadata": {
    "collapsed": true
   },
   "outputs": [],
   "source": []
  },
  {
   "cell_type": "code",
   "execution_count": null,
   "metadata": {
    "collapsed": true
   },
   "outputs": [],
   "source": []
  },
  {
   "cell_type": "code",
   "execution_count": null,
   "metadata": {
    "collapsed": true
   },
   "outputs": [],
   "source": []
  },
  {
   "cell_type": "code",
   "execution_count": null,
   "metadata": {
    "collapsed": true
   },
   "outputs": [],
   "source": []
  },
  {
   "cell_type": "code",
   "execution_count": null,
   "metadata": {
    "collapsed": true
   },
   "outputs": [],
   "source": []
  },
  {
   "cell_type": "code",
   "execution_count": null,
   "metadata": {
    "collapsed": true
   },
   "outputs": [],
   "source": []
  },
  {
   "cell_type": "code",
   "execution_count": null,
   "metadata": {
    "collapsed": true
   },
   "outputs": [],
   "source": []
  },
  {
   "cell_type": "code",
   "execution_count": null,
   "metadata": {
    "collapsed": true
   },
   "outputs": [],
   "source": []
  },
  {
   "cell_type": "code",
   "execution_count": null,
   "metadata": {
    "collapsed": true
   },
   "outputs": [],
   "source": []
  },
  {
   "cell_type": "code",
   "execution_count": null,
   "metadata": {
    "collapsed": true
   },
   "outputs": [],
   "source": []
  }
 ],
 "metadata": {
  "anaconda-cloud": {},
  "kernelspec": {
   "display_name": "Python 3",
   "language": "python",
   "name": "python3"
  },
  "language_info": {
   "codemirror_mode": {
    "name": "ipython",
    "version": 3
   },
   "file_extension": ".py",
   "mimetype": "text/x-python",
   "name": "python",
   "nbconvert_exporter": "python",
   "pygments_lexer": "ipython3",
   "version": "3.6.1"
  }
 },
 "nbformat": 4,
 "nbformat_minor": 2
}
