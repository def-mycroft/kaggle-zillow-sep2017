{
 "cells": [
  {
   "cell_type": "code",
   "execution_count": 11,
   "metadata": {
    "collapsed": true
   },
   "outputs": [],
   "source": [
    "import pandas as pd\n",
    "import numpy as np\n",
    "import os\n",
    "import pickle_funcs as pk\n",
    "import helpers\n",
    "from matplotlib import pyplot\n",
    "import sqlite3\n",
    "out_path = \"C:/Users/dasen/Google Drive/SYNC TO PC/\"\n",
    "downloads = \"C:/Users/dasen/Downloads/\""
   ]
  },
  {
   "cell_type": "markdown",
   "metadata": {},
   "source": [
    "# Description\n",
    "\n",
    "Exploration and setup of data for [kaggle project.](https://www.kaggle.com/c/zillow-prize-1/data)\n",
    "\n",
    "I want to create a database for this project so that all data can be in a centralized location."
   ]
  },
  {
   "cell_type": "markdown",
   "metadata": {
    "collapsed": true
   },
   "source": [
    "# Load Data"
   ]
  },
  {
   "cell_type": "code",
   "execution_count": 12,
   "metadata": {},
   "outputs": [
    {
     "data": {
      "text/plain": [
       "['data_dictionary.xlsx',\n",
       " 'properties.csv',\n",
       " 'sample_submission.csv',\n",
       " 'train.csv']"
      ]
     },
     "execution_count": 12,
     "metadata": {},
     "output_type": "execute_result"
    }
   ],
   "source": [
    "# create list of filenames in my downloads folder\n",
    "files = [x for x in list(os.walk(downloads))[0][2] if '.csv' in x or '.xlsx' in x]\n",
    "files"
   ]
  },
  {
   "cell_type": "code",
   "execution_count": 13,
   "metadata": {
    "collapsed": true
   },
   "outputs": [],
   "source": [
    "def write(table_name, df):\n",
    "    \"\"\"Writes a dataframe to the database\"\"\"\n",
    "    conn = sqlite3.connect(out_path + 'data998_database.sqlite3')\n",
    "    df.to_sql(table_name, conn, if_exists='replace')\n",
    "    conn.close()"
   ]
  },
  {
   "cell_type": "markdown",
   "metadata": {},
   "source": [
    "## Review and Write Data Dictionary"
   ]
  },
  {
   "cell_type": "code",
   "execution_count": 14,
   "metadata": {},
   "outputs": [
    {
     "data": {
      "text/plain": [
       "'data_dictionary.xlsx'"
      ]
     },
     "execution_count": 14,
     "metadata": {},
     "output_type": "execute_result"
    }
   ],
   "source": [
    "files[0]"
   ]
  },
  {
   "cell_type": "code",
   "execution_count": 15,
   "metadata": {},
   "outputs": [
    {
     "name": "stdout",
     "output_type": "stream",
     "text": [
      "Wall time: 323 ms\n"
     ]
    }
   ],
   "source": [
    "%%time\n",
    "# load and view\n",
    "df = pd.read_excel(downloads + files[0])\n",
    "df.columns = ['feature', 'description']\n",
    "df.head(10)"
   ]
  },
  {
   "cell_type": "code",
   "execution_count": 16,
   "metadata": {},
   "outputs": [
    {
     "name": "stdout",
     "output_type": "stream",
     "text": [
      "Wall time: 523 ms\n"
     ]
    }
   ],
   "source": [
    "%%time\n",
    "# write data dictionary \n",
    "write('data_dictionary', df)"
   ]
  },
  {
   "cell_type": "markdown",
   "metadata": {},
   "source": [
    "## Review and Write Properties Data"
   ]
  },
  {
   "cell_type": "code",
   "execution_count": 17,
   "metadata": {},
   "outputs": [
    {
     "data": {
      "text/plain": [
       "'properties.csv'"
      ]
     },
     "execution_count": 17,
     "metadata": {},
     "output_type": "execute_result"
    }
   ],
   "source": [
    "files[1]"
   ]
  },
  {
   "cell_type": "markdown",
   "metadata": {},
   "source": [
    "After first loading this data, I received this error: \n",
    "\n",
    "```\n",
    "<string>:2: DtypeWarning: Columns (22,32,34,49,55) have mixed types. Specify dtype option on import or set low_memory=False\n",
    "```\n",
    "\n",
    "Here are the descriptions of each of these columns: \n",
    "\n",
    "```\n",
    "count     69014\n",
    "unique        1\n",
    "top        True\n",
    "freq      69014\n",
    "Name: hashottuborspa, dtype: object\n",
    "\n",
    "count     2972940\n",
    "unique        240\n",
    "top          0100\n",
    "freq      1153896\n",
    "Name: propertycountylandusecode, dtype: object\n",
    "\n",
    "count     1978629\n",
    "unique       5638\n",
    "top          LAR1\n",
    "freq       275029\n",
    "Name: propertyzoningdesc, dtype: object\n",
    "\n",
    "count     5163\n",
    "unique       1\n",
    "top       True\n",
    "freq      5163\n",
    "Name: fireplaceflag, dtype: object\n",
    "\n",
    "count     56462\n",
    "unique        1\n",
    "top           Y\n",
    "freq      56462\n",
    "Name: taxdelinquencyflag, dtype: object\n",
    "```\n",
    "\n",
    "For now, I'm just going to load these columns as string columns by using the `dtype` argument in the `read_csv` method. "
   ]
  },
  {
   "cell_type": "code",
   "execution_count": 18,
   "metadata": {
    "collapsed": true
   },
   "outputs": [],
   "source": [
    "# dict to set types of columns \n",
    "types = {22: str, 32: str, 34: str, 49: str, 55: str}"
   ]
  },
  {
   "cell_type": "code",
   "execution_count": 19,
   "metadata": {},
   "outputs": [
    {
     "name": "stdout",
     "output_type": "stream",
     "text": [
      "Wall time: 21.7 s\n"
     ]
    }
   ],
   "source": [
    "%%time\n",
    "# load and view \n",
    "df = pd.read_csv(downloads + files[1], dtype=types)"
   ]
  },
  {
   "cell_type": "code",
   "execution_count": 20,
   "metadata": {},
   "outputs": [
    {
     "data": {
      "text/plain": [
       "(2985217, 58)"
      ]
     },
     "execution_count": 20,
     "metadata": {},
     "output_type": "execute_result"
    }
   ],
   "source": [
    "df.shape"
   ]
  },
  {
   "cell_type": "code",
   "execution_count": 21,
   "metadata": {},
   "outputs": [
    {
     "data": {
      "text/html": [
       "<div>\n",
       "<style>\n",
       "    .dataframe thead tr:only-child th {\n",
       "        text-align: right;\n",
       "    }\n",
       "\n",
       "    .dataframe thead th {\n",
       "        text-align: left;\n",
       "    }\n",
       "\n",
       "    .dataframe tbody tr th {\n",
       "        vertical-align: top;\n",
       "    }\n",
       "</style>\n",
       "<table border=\"1\" class=\"dataframe\">\n",
       "  <thead>\n",
       "    <tr style=\"text-align: right;\">\n",
       "      <th></th>\n",
       "      <th>parcelid</th>\n",
       "      <th>airconditioningtypeid</th>\n",
       "      <th>architecturalstyletypeid</th>\n",
       "      <th>basementsqft</th>\n",
       "      <th>bathroomcnt</th>\n",
       "      <th>bedroomcnt</th>\n",
       "      <th>buildingclasstypeid</th>\n",
       "      <th>buildingqualitytypeid</th>\n",
       "      <th>calculatedbathnbr</th>\n",
       "      <th>decktypeid</th>\n",
       "      <th>...</th>\n",
       "      <th>numberofstories</th>\n",
       "      <th>fireplaceflag</th>\n",
       "      <th>structuretaxvaluedollarcnt</th>\n",
       "      <th>taxvaluedollarcnt</th>\n",
       "      <th>assessmentyear</th>\n",
       "      <th>landtaxvaluedollarcnt</th>\n",
       "      <th>taxamount</th>\n",
       "      <th>taxdelinquencyflag</th>\n",
       "      <th>taxdelinquencyyear</th>\n",
       "      <th>censustractandblock</th>\n",
       "    </tr>\n",
       "  </thead>\n",
       "  <tbody>\n",
       "    <tr>\n",
       "      <th>1773684</th>\n",
       "      <td>11448291</td>\n",
       "      <td>NaN</td>\n",
       "      <td>NaN</td>\n",
       "      <td>NaN</td>\n",
       "      <td>3.0</td>\n",
       "      <td>4.0</td>\n",
       "      <td>NaN</td>\n",
       "      <td>4.0</td>\n",
       "      <td>3.0</td>\n",
       "      <td>NaN</td>\n",
       "      <td>...</td>\n",
       "      <td>NaN</td>\n",
       "      <td>NaN</td>\n",
       "      <td>177500.0</td>\n",
       "      <td>709000.0</td>\n",
       "      <td>2015.0</td>\n",
       "      <td>531500.0</td>\n",
       "      <td>8115.26</td>\n",
       "      <td>NaN</td>\n",
       "      <td>NaN</td>\n",
       "      <td>6.037650e+13</td>\n",
       "    </tr>\n",
       "    <tr>\n",
       "      <th>490631</th>\n",
       "      <td>11946980</td>\n",
       "      <td>NaN</td>\n",
       "      <td>NaN</td>\n",
       "      <td>NaN</td>\n",
       "      <td>0.0</td>\n",
       "      <td>0.0</td>\n",
       "      <td>4.0</td>\n",
       "      <td>7.0</td>\n",
       "      <td>NaN</td>\n",
       "      <td>NaN</td>\n",
       "      <td>...</td>\n",
       "      <td>1.0</td>\n",
       "      <td>NaN</td>\n",
       "      <td>650000.0</td>\n",
       "      <td>1550000.0</td>\n",
       "      <td>2015.0</td>\n",
       "      <td>900000.0</td>\n",
       "      <td>19761.31</td>\n",
       "      <td>NaN</td>\n",
       "      <td>NaN</td>\n",
       "      <td>NaN</td>\n",
       "    </tr>\n",
       "    <tr>\n",
       "      <th>839853</th>\n",
       "      <td>12325073</td>\n",
       "      <td>1.0</td>\n",
       "      <td>NaN</td>\n",
       "      <td>NaN</td>\n",
       "      <td>2.0</td>\n",
       "      <td>2.0</td>\n",
       "      <td>NaN</td>\n",
       "      <td>4.0</td>\n",
       "      <td>2.0</td>\n",
       "      <td>NaN</td>\n",
       "      <td>...</td>\n",
       "      <td>NaN</td>\n",
       "      <td>NaN</td>\n",
       "      <td>60000.0</td>\n",
       "      <td>178000.0</td>\n",
       "      <td>2015.0</td>\n",
       "      <td>118000.0</td>\n",
       "      <td>2576.45</td>\n",
       "      <td>NaN</td>\n",
       "      <td>NaN</td>\n",
       "      <td>6.037554e+13</td>\n",
       "    </tr>\n",
       "    <tr>\n",
       "      <th>2363045</th>\n",
       "      <td>11664240</td>\n",
       "      <td>NaN</td>\n",
       "      <td>NaN</td>\n",
       "      <td>NaN</td>\n",
       "      <td>2.0</td>\n",
       "      <td>2.0</td>\n",
       "      <td>NaN</td>\n",
       "      <td>7.0</td>\n",
       "      <td>2.0</td>\n",
       "      <td>NaN</td>\n",
       "      <td>...</td>\n",
       "      <td>NaN</td>\n",
       "      <td>NaN</td>\n",
       "      <td>160872.0</td>\n",
       "      <td>804384.0</td>\n",
       "      <td>2015.0</td>\n",
       "      <td>643512.0</td>\n",
       "      <td>9956.16</td>\n",
       "      <td>NaN</td>\n",
       "      <td>NaN</td>\n",
       "      <td>6.037263e+13</td>\n",
       "    </tr>\n",
       "    <tr>\n",
       "      <th>312713</th>\n",
       "      <td>17156980</td>\n",
       "      <td>NaN</td>\n",
       "      <td>NaN</td>\n",
       "      <td>NaN</td>\n",
       "      <td>2.5</td>\n",
       "      <td>3.0</td>\n",
       "      <td>NaN</td>\n",
       "      <td>NaN</td>\n",
       "      <td>2.5</td>\n",
       "      <td>NaN</td>\n",
       "      <td>...</td>\n",
       "      <td>2.0</td>\n",
       "      <td>NaN</td>\n",
       "      <td>189551.0</td>\n",
       "      <td>379102.0</td>\n",
       "      <td>2015.0</td>\n",
       "      <td>189551.0</td>\n",
       "      <td>4406.92</td>\n",
       "      <td>NaN</td>\n",
       "      <td>NaN</td>\n",
       "      <td>6.111004e+13</td>\n",
       "    </tr>\n",
       "    <tr>\n",
       "      <th>2696379</th>\n",
       "      <td>11852756</td>\n",
       "      <td>NaN</td>\n",
       "      <td>NaN</td>\n",
       "      <td>NaN</td>\n",
       "      <td>2.0</td>\n",
       "      <td>3.0</td>\n",
       "      <td>NaN</td>\n",
       "      <td>7.0</td>\n",
       "      <td>2.0</td>\n",
       "      <td>NaN</td>\n",
       "      <td>...</td>\n",
       "      <td>NaN</td>\n",
       "      <td>NaN</td>\n",
       "      <td>138358.0</td>\n",
       "      <td>220532.0</td>\n",
       "      <td>2015.0</td>\n",
       "      <td>82174.0</td>\n",
       "      <td>3586.36</td>\n",
       "      <td>NaN</td>\n",
       "      <td>NaN</td>\n",
       "      <td>6.037530e+13</td>\n",
       "    </tr>\n",
       "    <tr>\n",
       "      <th>1673105</th>\n",
       "      <td>12345930</td>\n",
       "      <td>NaN</td>\n",
       "      <td>NaN</td>\n",
       "      <td>NaN</td>\n",
       "      <td>3.0</td>\n",
       "      <td>5.0</td>\n",
       "      <td>NaN</td>\n",
       "      <td>7.0</td>\n",
       "      <td>3.0</td>\n",
       "      <td>NaN</td>\n",
       "      <td>...</td>\n",
       "      <td>NaN</td>\n",
       "      <td>NaN</td>\n",
       "      <td>115479.0</td>\n",
       "      <td>249752.0</td>\n",
       "      <td>2015.0</td>\n",
       "      <td>134273.0</td>\n",
       "      <td>3332.52</td>\n",
       "      <td>NaN</td>\n",
       "      <td>NaN</td>\n",
       "      <td>6.037554e+13</td>\n",
       "    </tr>\n",
       "    <tr>\n",
       "      <th>2887070</th>\n",
       "      <td>11052044</td>\n",
       "      <td>NaN</td>\n",
       "      <td>NaN</td>\n",
       "      <td>NaN</td>\n",
       "      <td>2.0</td>\n",
       "      <td>3.0</td>\n",
       "      <td>NaN</td>\n",
       "      <td>7.0</td>\n",
       "      <td>2.0</td>\n",
       "      <td>NaN</td>\n",
       "      <td>...</td>\n",
       "      <td>NaN</td>\n",
       "      <td>NaN</td>\n",
       "      <td>144531.0</td>\n",
       "      <td>474290.0</td>\n",
       "      <td>2015.0</td>\n",
       "      <td>329759.0</td>\n",
       "      <td>5900.16</td>\n",
       "      <td>NaN</td>\n",
       "      <td>NaN</td>\n",
       "      <td>6.037110e+13</td>\n",
       "    </tr>\n",
       "    <tr>\n",
       "      <th>2042001</th>\n",
       "      <td>11686012</td>\n",
       "      <td>NaN</td>\n",
       "      <td>NaN</td>\n",
       "      <td>NaN</td>\n",
       "      <td>1.0</td>\n",
       "      <td>2.0</td>\n",
       "      <td>NaN</td>\n",
       "      <td>7.0</td>\n",
       "      <td>1.0</td>\n",
       "      <td>NaN</td>\n",
       "      <td>...</td>\n",
       "      <td>NaN</td>\n",
       "      <td>NaN</td>\n",
       "      <td>53720.0</td>\n",
       "      <td>138557.0</td>\n",
       "      <td>2015.0</td>\n",
       "      <td>84837.0</td>\n",
       "      <td>2183.91</td>\n",
       "      <td>NaN</td>\n",
       "      <td>NaN</td>\n",
       "      <td>6.037800e+13</td>\n",
       "    </tr>\n",
       "    <tr>\n",
       "      <th>1631601</th>\n",
       "      <td>13891005</td>\n",
       "      <td>NaN</td>\n",
       "      <td>NaN</td>\n",
       "      <td>NaN</td>\n",
       "      <td>2.0</td>\n",
       "      <td>2.0</td>\n",
       "      <td>NaN</td>\n",
       "      <td>NaN</td>\n",
       "      <td>2.0</td>\n",
       "      <td>NaN</td>\n",
       "      <td>...</td>\n",
       "      <td>1.0</td>\n",
       "      <td>NaN</td>\n",
       "      <td>NaN</td>\n",
       "      <td>1076738.0</td>\n",
       "      <td>2015.0</td>\n",
       "      <td>1076738.0</td>\n",
       "      <td>21279.88</td>\n",
       "      <td>NaN</td>\n",
       "      <td>NaN</td>\n",
       "      <td>6.059063e+13</td>\n",
       "    </tr>\n",
       "  </tbody>\n",
       "</table>\n",
       "<p>10 rows × 58 columns</p>\n",
       "</div>"
      ],
      "text/plain": [
       "         parcelid  airconditioningtypeid  architecturalstyletypeid  \\\n",
       "1773684  11448291                    NaN                       NaN   \n",
       "490631   11946980                    NaN                       NaN   \n",
       "839853   12325073                    1.0                       NaN   \n",
       "2363045  11664240                    NaN                       NaN   \n",
       "312713   17156980                    NaN                       NaN   \n",
       "2696379  11852756                    NaN                       NaN   \n",
       "1673105  12345930                    NaN                       NaN   \n",
       "2887070  11052044                    NaN                       NaN   \n",
       "2042001  11686012                    NaN                       NaN   \n",
       "1631601  13891005                    NaN                       NaN   \n",
       "\n",
       "         basementsqft  bathroomcnt  bedroomcnt  buildingclasstypeid  \\\n",
       "1773684           NaN          3.0         4.0                  NaN   \n",
       "490631            NaN          0.0         0.0                  4.0   \n",
       "839853            NaN          2.0         2.0                  NaN   \n",
       "2363045           NaN          2.0         2.0                  NaN   \n",
       "312713            NaN          2.5         3.0                  NaN   \n",
       "2696379           NaN          2.0         3.0                  NaN   \n",
       "1673105           NaN          3.0         5.0                  NaN   \n",
       "2887070           NaN          2.0         3.0                  NaN   \n",
       "2042001           NaN          1.0         2.0                  NaN   \n",
       "1631601           NaN          2.0         2.0                  NaN   \n",
       "\n",
       "         buildingqualitytypeid  calculatedbathnbr  decktypeid  \\\n",
       "1773684                    4.0                3.0         NaN   \n",
       "490631                     7.0                NaN         NaN   \n",
       "839853                     4.0                2.0         NaN   \n",
       "2363045                    7.0                2.0         NaN   \n",
       "312713                     NaN                2.5         NaN   \n",
       "2696379                    7.0                2.0         NaN   \n",
       "1673105                    7.0                3.0         NaN   \n",
       "2887070                    7.0                2.0         NaN   \n",
       "2042001                    7.0                1.0         NaN   \n",
       "1631601                    NaN                2.0         NaN   \n",
       "\n",
       "                ...           numberofstories  fireplaceflag  \\\n",
       "1773684         ...                       NaN            NaN   \n",
       "490631          ...                       1.0            NaN   \n",
       "839853          ...                       NaN            NaN   \n",
       "2363045         ...                       NaN            NaN   \n",
       "312713          ...                       2.0            NaN   \n",
       "2696379         ...                       NaN            NaN   \n",
       "1673105         ...                       NaN            NaN   \n",
       "2887070         ...                       NaN            NaN   \n",
       "2042001         ...                       NaN            NaN   \n",
       "1631601         ...                       1.0            NaN   \n",
       "\n",
       "         structuretaxvaluedollarcnt  taxvaluedollarcnt  assessmentyear  \\\n",
       "1773684                    177500.0           709000.0          2015.0   \n",
       "490631                     650000.0          1550000.0          2015.0   \n",
       "839853                      60000.0           178000.0          2015.0   \n",
       "2363045                    160872.0           804384.0          2015.0   \n",
       "312713                     189551.0           379102.0          2015.0   \n",
       "2696379                    138358.0           220532.0          2015.0   \n",
       "1673105                    115479.0           249752.0          2015.0   \n",
       "2887070                    144531.0           474290.0          2015.0   \n",
       "2042001                     53720.0           138557.0          2015.0   \n",
       "1631601                         NaN          1076738.0          2015.0   \n",
       "\n",
       "         landtaxvaluedollarcnt  taxamount  taxdelinquencyflag  \\\n",
       "1773684               531500.0    8115.26                 NaN   \n",
       "490631                900000.0   19761.31                 NaN   \n",
       "839853                118000.0    2576.45                 NaN   \n",
       "2363045               643512.0    9956.16                 NaN   \n",
       "312713                189551.0    4406.92                 NaN   \n",
       "2696379                82174.0    3586.36                 NaN   \n",
       "1673105               134273.0    3332.52                 NaN   \n",
       "2887070               329759.0    5900.16                 NaN   \n",
       "2042001                84837.0    2183.91                 NaN   \n",
       "1631601              1076738.0   21279.88                 NaN   \n",
       "\n",
       "         taxdelinquencyyear  censustractandblock  \n",
       "1773684                 NaN         6.037650e+13  \n",
       "490631                  NaN                  NaN  \n",
       "839853                  NaN         6.037554e+13  \n",
       "2363045                 NaN         6.037263e+13  \n",
       "312713                  NaN         6.111004e+13  \n",
       "2696379                 NaN         6.037530e+13  \n",
       "1673105                 NaN         6.037554e+13  \n",
       "2887070                 NaN         6.037110e+13  \n",
       "2042001                 NaN         6.037800e+13  \n",
       "1631601                 NaN         6.059063e+13  \n",
       "\n",
       "[10 rows x 58 columns]"
      ]
     },
     "execution_count": 21,
     "metadata": {},
     "output_type": "execute_result"
    }
   ],
   "source": [
    "df.sample(10)"
   ]
  },
  {
   "cell_type": "code",
   "execution_count": 22,
   "metadata": {},
   "outputs": [
    {
     "name": "stdout",
     "output_type": "stream",
     "text": [
      "Wall time: 2min 41s\n"
     ]
    }
   ],
   "source": [
    "%%time\n",
    "# write properties data \n",
    "write('properties', df)"
   ]
  },
  {
   "cell_type": "code",
   "execution_count": 23,
   "metadata": {
    "collapsed": true
   },
   "outputs": [],
   "source": [
    "# create index on properties\n",
    "conn = sqlite3.connect(helpers.db_path)\n",
    "cur = conn.cursor()\n",
    "cur.execute(\"create index properties_index on properties (parcelid)\")\n",
    "conn.close()"
   ]
  },
  {
   "cell_type": "markdown",
   "metadata": {},
   "source": [
    "## Review and Write Sample Submissions"
   ]
  },
  {
   "cell_type": "code",
   "execution_count": 24,
   "metadata": {},
   "outputs": [
    {
     "data": {
      "text/plain": [
       "'sample_submission.csv'"
      ]
     },
     "execution_count": 24,
     "metadata": {},
     "output_type": "execute_result"
    }
   ],
   "source": [
    "files[2]"
   ]
  },
  {
   "cell_type": "code",
   "execution_count": 25,
   "metadata": {},
   "outputs": [
    {
     "name": "stdout",
     "output_type": "stream",
     "text": [
      "Wall time: 2.2 s\n"
     ]
    }
   ],
   "source": [
    "%%time\n",
    "# load and view\n",
    "df = pd.read_csv(downloads + files[2])"
   ]
  },
  {
   "cell_type": "code",
   "execution_count": 26,
   "metadata": {},
   "outputs": [
    {
     "data": {
      "text/html": [
       "<div>\n",
       "<style>\n",
       "    .dataframe thead tr:only-child th {\n",
       "        text-align: right;\n",
       "    }\n",
       "\n",
       "    .dataframe thead th {\n",
       "        text-align: left;\n",
       "    }\n",
       "\n",
       "    .dataframe tbody tr th {\n",
       "        vertical-align: top;\n",
       "    }\n",
       "</style>\n",
       "<table border=\"1\" class=\"dataframe\">\n",
       "  <thead>\n",
       "    <tr style=\"text-align: right;\">\n",
       "      <th></th>\n",
       "      <th>ParcelId</th>\n",
       "      <th>201610</th>\n",
       "      <th>201611</th>\n",
       "      <th>201612</th>\n",
       "      <th>201710</th>\n",
       "      <th>201711</th>\n",
       "      <th>201712</th>\n",
       "    </tr>\n",
       "  </thead>\n",
       "  <tbody>\n",
       "    <tr>\n",
       "      <th>0</th>\n",
       "      <td>10754147</td>\n",
       "      <td>0</td>\n",
       "      <td>0</td>\n",
       "      <td>0</td>\n",
       "      <td>0</td>\n",
       "      <td>0</td>\n",
       "      <td>0</td>\n",
       "    </tr>\n",
       "    <tr>\n",
       "      <th>1</th>\n",
       "      <td>10759547</td>\n",
       "      <td>0</td>\n",
       "      <td>0</td>\n",
       "      <td>0</td>\n",
       "      <td>0</td>\n",
       "      <td>0</td>\n",
       "      <td>0</td>\n",
       "    </tr>\n",
       "    <tr>\n",
       "      <th>2</th>\n",
       "      <td>10843547</td>\n",
       "      <td>0</td>\n",
       "      <td>0</td>\n",
       "      <td>0</td>\n",
       "      <td>0</td>\n",
       "      <td>0</td>\n",
       "      <td>0</td>\n",
       "    </tr>\n",
       "    <tr>\n",
       "      <th>3</th>\n",
       "      <td>10859147</td>\n",
       "      <td>0</td>\n",
       "      <td>0</td>\n",
       "      <td>0</td>\n",
       "      <td>0</td>\n",
       "      <td>0</td>\n",
       "      <td>0</td>\n",
       "    </tr>\n",
       "    <tr>\n",
       "      <th>4</th>\n",
       "      <td>10879947</td>\n",
       "      <td>0</td>\n",
       "      <td>0</td>\n",
       "      <td>0</td>\n",
       "      <td>0</td>\n",
       "      <td>0</td>\n",
       "      <td>0</td>\n",
       "    </tr>\n",
       "    <tr>\n",
       "      <th>5</th>\n",
       "      <td>10898347</td>\n",
       "      <td>0</td>\n",
       "      <td>0</td>\n",
       "      <td>0</td>\n",
       "      <td>0</td>\n",
       "      <td>0</td>\n",
       "      <td>0</td>\n",
       "    </tr>\n",
       "    <tr>\n",
       "      <th>6</th>\n",
       "      <td>10933547</td>\n",
       "      <td>0</td>\n",
       "      <td>0</td>\n",
       "      <td>0</td>\n",
       "      <td>0</td>\n",
       "      <td>0</td>\n",
       "      <td>0</td>\n",
       "    </tr>\n",
       "    <tr>\n",
       "      <th>7</th>\n",
       "      <td>10940747</td>\n",
       "      <td>0</td>\n",
       "      <td>0</td>\n",
       "      <td>0</td>\n",
       "      <td>0</td>\n",
       "      <td>0</td>\n",
       "      <td>0</td>\n",
       "    </tr>\n",
       "    <tr>\n",
       "      <th>8</th>\n",
       "      <td>10954547</td>\n",
       "      <td>0</td>\n",
       "      <td>0</td>\n",
       "      <td>0</td>\n",
       "      <td>0</td>\n",
       "      <td>0</td>\n",
       "      <td>0</td>\n",
       "    </tr>\n",
       "    <tr>\n",
       "      <th>9</th>\n",
       "      <td>10976347</td>\n",
       "      <td>0</td>\n",
       "      <td>0</td>\n",
       "      <td>0</td>\n",
       "      <td>0</td>\n",
       "      <td>0</td>\n",
       "      <td>0</td>\n",
       "    </tr>\n",
       "  </tbody>\n",
       "</table>\n",
       "</div>"
      ],
      "text/plain": [
       "   ParcelId  201610  201611  201612  201710  201711  201712\n",
       "0  10754147       0       0       0       0       0       0\n",
       "1  10759547       0       0       0       0       0       0\n",
       "2  10843547       0       0       0       0       0       0\n",
       "3  10859147       0       0       0       0       0       0\n",
       "4  10879947       0       0       0       0       0       0\n",
       "5  10898347       0       0       0       0       0       0\n",
       "6  10933547       0       0       0       0       0       0\n",
       "7  10940747       0       0       0       0       0       0\n",
       "8  10954547       0       0       0       0       0       0\n",
       "9  10976347       0       0       0       0       0       0"
      ]
     },
     "execution_count": 26,
     "metadata": {},
     "output_type": "execute_result"
    }
   ],
   "source": [
    "df.head(10)"
   ]
  },
  {
   "cell_type": "code",
   "execution_count": 27,
   "metadata": {},
   "outputs": [
    {
     "name": "stdout",
     "output_type": "stream",
     "text": [
      "Wall time: 10.3 s\n"
     ]
    }
   ],
   "source": [
    "%%time\n",
    "# write sample submission data \n",
    "write('sample', df)"
   ]
  },
  {
   "cell_type": "markdown",
   "metadata": {},
   "source": [
    "## Review and Write Sample Submissions"
   ]
  },
  {
   "cell_type": "code",
   "execution_count": 28,
   "metadata": {},
   "outputs": [
    {
     "data": {
      "text/plain": [
       "'train.csv'"
      ]
     },
     "execution_count": 28,
     "metadata": {},
     "output_type": "execute_result"
    }
   ],
   "source": [
    "files[3]"
   ]
  },
  {
   "cell_type": "code",
   "execution_count": 29,
   "metadata": {},
   "outputs": [
    {
     "name": "stdout",
     "output_type": "stream",
     "text": [
      "Wall time: 69 ms\n"
     ]
    }
   ],
   "source": [
    "%%time\n",
    "# load and view\n",
    "df = pd.read_csv(downloads + files[3])"
   ]
  },
  {
   "cell_type": "code",
   "execution_count": 30,
   "metadata": {},
   "outputs": [
    {
     "data": {
      "text/html": [
       "<div>\n",
       "<style>\n",
       "    .dataframe thead tr:only-child th {\n",
       "        text-align: right;\n",
       "    }\n",
       "\n",
       "    .dataframe thead th {\n",
       "        text-align: left;\n",
       "    }\n",
       "\n",
       "    .dataframe tbody tr th {\n",
       "        vertical-align: top;\n",
       "    }\n",
       "</style>\n",
       "<table border=\"1\" class=\"dataframe\">\n",
       "  <thead>\n",
       "    <tr style=\"text-align: right;\">\n",
       "      <th></th>\n",
       "      <th>parcelid</th>\n",
       "      <th>logerror</th>\n",
       "      <th>transactiondate</th>\n",
       "    </tr>\n",
       "  </thead>\n",
       "  <tbody>\n",
       "    <tr>\n",
       "      <th>0</th>\n",
       "      <td>11016594</td>\n",
       "      <td>0.0276</td>\n",
       "      <td>2016-01-01</td>\n",
       "    </tr>\n",
       "    <tr>\n",
       "      <th>1</th>\n",
       "      <td>14366692</td>\n",
       "      <td>-0.1684</td>\n",
       "      <td>2016-01-01</td>\n",
       "    </tr>\n",
       "    <tr>\n",
       "      <th>2</th>\n",
       "      <td>12098116</td>\n",
       "      <td>-0.0040</td>\n",
       "      <td>2016-01-01</td>\n",
       "    </tr>\n",
       "    <tr>\n",
       "      <th>3</th>\n",
       "      <td>12643413</td>\n",
       "      <td>0.0218</td>\n",
       "      <td>2016-01-02</td>\n",
       "    </tr>\n",
       "    <tr>\n",
       "      <th>4</th>\n",
       "      <td>14432541</td>\n",
       "      <td>-0.0050</td>\n",
       "      <td>2016-01-02</td>\n",
       "    </tr>\n",
       "    <tr>\n",
       "      <th>5</th>\n",
       "      <td>11509835</td>\n",
       "      <td>-0.2705</td>\n",
       "      <td>2016-01-02</td>\n",
       "    </tr>\n",
       "    <tr>\n",
       "      <th>6</th>\n",
       "      <td>12286022</td>\n",
       "      <td>0.0440</td>\n",
       "      <td>2016-01-02</td>\n",
       "    </tr>\n",
       "    <tr>\n",
       "      <th>7</th>\n",
       "      <td>17177301</td>\n",
       "      <td>0.1638</td>\n",
       "      <td>2016-01-02</td>\n",
       "    </tr>\n",
       "    <tr>\n",
       "      <th>8</th>\n",
       "      <td>14739064</td>\n",
       "      <td>-0.0030</td>\n",
       "      <td>2016-01-02</td>\n",
       "    </tr>\n",
       "    <tr>\n",
       "      <th>9</th>\n",
       "      <td>14677559</td>\n",
       "      <td>0.0843</td>\n",
       "      <td>2016-01-03</td>\n",
       "    </tr>\n",
       "  </tbody>\n",
       "</table>\n",
       "</div>"
      ],
      "text/plain": [
       "   parcelid  logerror transactiondate\n",
       "0  11016594    0.0276      2016-01-01\n",
       "1  14366692   -0.1684      2016-01-01\n",
       "2  12098116   -0.0040      2016-01-01\n",
       "3  12643413    0.0218      2016-01-02\n",
       "4  14432541   -0.0050      2016-01-02\n",
       "5  11509835   -0.2705      2016-01-02\n",
       "6  12286022    0.0440      2016-01-02\n",
       "7  17177301    0.1638      2016-01-02\n",
       "8  14739064   -0.0030      2016-01-02\n",
       "9  14677559    0.0843      2016-01-03"
      ]
     },
     "execution_count": 30,
     "metadata": {},
     "output_type": "execute_result"
    }
   ],
   "source": [
    "df.head(10)"
   ]
  },
  {
   "cell_type": "code",
   "execution_count": 31,
   "metadata": {},
   "outputs": [
    {
     "data": {
      "text/plain": [
       "(90275, 3)"
      ]
     },
     "execution_count": 31,
     "metadata": {},
     "output_type": "execute_result"
    }
   ],
   "source": [
    "df.shape"
   ]
  },
  {
   "cell_type": "code",
   "execution_count": 32,
   "metadata": {},
   "outputs": [
    {
     "name": "stdout",
     "output_type": "stream",
     "text": [
      "Wall time: 396 ms\n"
     ]
    }
   ],
   "source": [
    "%%time\n",
    "# write training data \n",
    "write('train', df)"
   ]
  },
  {
   "cell_type": "code",
   "execution_count": 34,
   "metadata": {},
   "outputs": [
    {
     "name": "stdout",
     "output_type": "stream",
     "text": [
      "Wall time: 98.1 ms\n"
     ]
    }
   ],
   "source": [
    "%%time\n",
    "# create index on train\n",
    "conn = sqlite3.connect(helpers.db_path)\n",
    "cur = conn.cursor()\n",
    "cur.execute(\"create index train_index on train (parcelid)\")\n",
    "conn.close()"
   ]
  },
  {
   "cell_type": "markdown",
   "metadata": {
    "collapsed": true
   },
   "source": [
    "# Review Database"
   ]
  },
  {
   "cell_type": "code",
   "execution_count": 35,
   "metadata": {},
   "outputs": [
    {
     "data": {
      "text/plain": [
       "[('data_dictionary',), ('properties',), ('sample',), ('train',)]"
      ]
     },
     "execution_count": 35,
     "metadata": {},
     "output_type": "execute_result"
    }
   ],
   "source": [
    "helpers.inspect_database()"
   ]
  },
  {
   "cell_type": "markdown",
   "metadata": {},
   "source": [
    "# Compare speeds between sqlite3 and csv"
   ]
  },
  {
   "cell_type": "markdown",
   "metadata": {
    "collapsed": true
   },
   "source": [
    "I want to compare how long it takes to load data from a `csv` versus loading from the database. \n",
    "\n",
    "The properties file is very large. From the `csv`, it takes about 20 seconds to load:"
   ]
  },
  {
   "cell_type": "code",
   "execution_count": 36,
   "metadata": {},
   "outputs": [
    {
     "name": "stdout",
     "output_type": "stream",
     "text": [
      "Wall time: 21.9 s\n"
     ]
    }
   ],
   "source": [
    "%%time\n",
    "# load and view \n",
    "df = pd.read_csv(downloads + 'properties.csv', dtype=types)"
   ]
  },
  {
   "attachments": {
    "image.png": {
     "image/png": "[encoded data removed]"
    }
   },
   "cell_type": "markdown",
   "metadata": {},
   "source": [
    "![image.png](attachment:image.png)"
   ]
  },
  {
   "cell_type": "markdown",
   "metadata": {},
   "source": [
    "And the `sqlite3` database takes about three times as long, and takes much more memory:"
   ]
  },
  {
   "cell_type": "code",
   "execution_count": 37,
   "metadata": {},
   "outputs": [
    {
     "name": "stdout",
     "output_type": "stream",
     "text": [
      "Wall time: 1min 8s\n"
     ]
    }
   ],
   "source": [
    "%%time\n",
    "# load and view from database \n",
    "query = \"\"\"select * from properties\"\"\"\n",
    "df = helpers.query_database(query)"
   ]
  },
  {
   "attachments": {
    "image.png": {
     "image/png": "[encoded data removed]"
    }
   },
   "cell_type": "markdown",
   "metadata": {},
   "source": [
    "![image.png](attachment:image.png)"
   ]
  }
 ],
 "metadata": {
  "kernelspec": {
   "display_name": "Python 3",
   "language": "python",
   "name": "python3"
  },
  "language_info": {
   "codemirror_mode": {
    "name": "ipython",
    "version": 3
   },
   "file_extension": ".py",
   "mimetype": "text/x-python",
   "name": "python",
   "nbconvert_exporter": "python",
   "pygments_lexer": "ipython3",
   "version": "3.6.1"
  }
 },
 "nbformat": 4,
 "nbformat_minor": 2
}
