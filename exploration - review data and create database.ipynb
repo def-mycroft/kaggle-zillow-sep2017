{
 "cells": [
  {
   "cell_type": "code",
   "execution_count": 3,
   "metadata": {
    "collapsed": true
   },
   "outputs": [],
   "source": [
    "import pandas as pd\n",
    "import numpy as np\n",
    "import os\n",
    "import pickle_funcs as pk\n",
    "import helpers\n",
    "from matplotlib import pyplot\n",
    "import sqlite3\n",
    "out_path = \"C:/Users/dasen/Google Drive/SYNC TO PC/\"\n",
    "downloads = \"C:/Users/dasen/Downloads/\""
   ]
  },
  {
   "cell_type": "markdown",
   "metadata": {},
   "source": [
    "# Description\n",
    "\n",
    "Exploration and setup of data for [kaggle project.](https://www.kaggle.com/c/zillow-prize-1/data)\n",
    "\n",
    "I want to create a database for this project so that all data can be in a centralized location."
   ]
  },
  {
   "cell_type": "markdown",
   "metadata": {
    "collapsed": true
   },
   "source": [
    "# Load Data"
   ]
  },
  {
   "cell_type": "code",
   "execution_count": 4,
   "metadata": {},
   "outputs": [
    {
     "data": {
      "text/plain": [
       "['data_dictionary.xlsx',\n",
       " 'properties.csv',\n",
       " 'sample_submission.csv',\n",
       " 'train.csv']"
      ]
     },
     "execution_count": 4,
     "metadata": {},
     "output_type": "execute_result"
    }
   ],
   "source": [
    "# create list of filenames in my downloads folder\n",
    "files = [x for x in list(os.walk(downloads))[0][2] if '.csv' in x or '.xlsx' in x]\n",
    "files"
   ]
  },
  {
   "cell_type": "code",
   "execution_count": 5,
   "metadata": {
    "collapsed": true
   },
   "outputs": [],
   "source": [
    "def write(table_name, df):\n",
    "    \"\"\"Writes a dataframe to the database\"\"\"\n",
    "    conn = sqlite3.connect(out_path + 'data998_database.sqlite3')\n",
    "    df.to_sql(table_name, conn, if_exists='replace')\n",
    "    conn.close()"
   ]
  },
  {
   "cell_type": "markdown",
   "metadata": {},
   "source": [
    "## Review and Write Data Dictionary"
   ]
  },
  {
   "cell_type": "code",
   "execution_count": 6,
   "metadata": {},
   "outputs": [
    {
     "data": {
      "text/plain": [
       "'data_dictionary.xlsx'"
      ]
     },
     "execution_count": 6,
     "metadata": {},
     "output_type": "execute_result"
    }
   ],
   "source": [
    "files[0]"
   ]
  },
  {
   "cell_type": "code",
   "execution_count": 7,
   "metadata": {},
   "outputs": [
    {
     "data": {
      "text/html": [
       "<div>\n",
       "<style>\n",
       "    .dataframe thead tr:only-child th {\n",
       "        text-align: right;\n",
       "    }\n",
       "\n",
       "    .dataframe thead th {\n",
       "        text-align: left;\n",
       "    }\n",
       "\n",
       "    .dataframe tbody tr th {\n",
       "        vertical-align: top;\n",
       "    }\n",
       "</style>\n",
       "<table border=\"1\" class=\"dataframe\">\n",
       "  <thead>\n",
       "    <tr style=\"text-align: right;\">\n",
       "      <th></th>\n",
       "      <th>feature</th>\n",
       "      <th>description</th>\n",
       "    </tr>\n",
       "  </thead>\n",
       "  <tbody>\n",
       "    <tr>\n",
       "      <th>0</th>\n",
       "      <td>'airconditioningtypeid'</td>\n",
       "      <td>Type of cooling system present in the home (i...</td>\n",
       "    </tr>\n",
       "    <tr>\n",
       "      <th>1</th>\n",
       "      <td>'architecturalstyletypeid'</td>\n",
       "      <td>Architectural style of the home (i.e. ranch, ...</td>\n",
       "    </tr>\n",
       "    <tr>\n",
       "      <th>2</th>\n",
       "      <td>'basementsqft'</td>\n",
       "      <td>Finished living area below or partially below...</td>\n",
       "    </tr>\n",
       "    <tr>\n",
       "      <th>3</th>\n",
       "      <td>'bathroomcnt'</td>\n",
       "      <td>Number of bathrooms in home including fractio...</td>\n",
       "    </tr>\n",
       "    <tr>\n",
       "      <th>4</th>\n",
       "      <td>'bedroomcnt'</td>\n",
       "      <td>Number of bedrooms in home</td>\n",
       "    </tr>\n",
       "    <tr>\n",
       "      <th>5</th>\n",
       "      <td>'buildingqualitytypeid'</td>\n",
       "      <td>Overall assessment of condition of the buildi...</td>\n",
       "    </tr>\n",
       "    <tr>\n",
       "      <th>6</th>\n",
       "      <td>'buildingclasstypeid'</td>\n",
       "      <td>The building framing type (steel frame, wood f...</td>\n",
       "    </tr>\n",
       "    <tr>\n",
       "      <th>7</th>\n",
       "      <td>'calculatedbathnbr'</td>\n",
       "      <td>Number of bathrooms in home including fractio...</td>\n",
       "    </tr>\n",
       "    <tr>\n",
       "      <th>8</th>\n",
       "      <td>'decktypeid'</td>\n",
       "      <td>Type of deck (if any) present on parcel</td>\n",
       "    </tr>\n",
       "    <tr>\n",
       "      <th>9</th>\n",
       "      <td>'threequarterbathnbr'</td>\n",
       "      <td>Number of 3/4 bathrooms in house (shower + si...</td>\n",
       "    </tr>\n",
       "  </tbody>\n",
       "</table>\n",
       "</div>"
      ],
      "text/plain": [
       "                      feature  \\\n",
       "0     'airconditioningtypeid'   \n",
       "1  'architecturalstyletypeid'   \n",
       "2              'basementsqft'   \n",
       "3               'bathroomcnt'   \n",
       "4                'bedroomcnt'   \n",
       "5     'buildingqualitytypeid'   \n",
       "6       'buildingclasstypeid'   \n",
       "7         'calculatedbathnbr'   \n",
       "8                'decktypeid'   \n",
       "9       'threequarterbathnbr'   \n",
       "\n",
       "                                         description  \n",
       "0   Type of cooling system present in the home (i...  \n",
       "1   Architectural style of the home (i.e. ranch, ...  \n",
       "2   Finished living area below or partially below...  \n",
       "3   Number of bathrooms in home including fractio...  \n",
       "4                        Number of bedrooms in home   \n",
       "5   Overall assessment of condition of the buildi...  \n",
       "6  The building framing type (steel frame, wood f...  \n",
       "7   Number of bathrooms in home including fractio...  \n",
       "8            Type of deck (if any) present on parcel  \n",
       "9   Number of 3/4 bathrooms in house (shower + si...  "
      ]
     },
     "execution_count": 7,
     "metadata": {},
     "output_type": "execute_result"
    }
   ],
   "source": [
    "# load and view\n",
    "df = pd.read_excel(downloads + files[0])\n",
    "df.columns = ['feature', 'description']\n",
    "df.head(10)"
   ]
  },
  {
   "cell_type": "code",
   "execution_count": 8,
   "metadata": {
    "collapsed": true
   },
   "outputs": [],
   "source": [
    "# write data dictionary \n",
    "write('data_dictionary', df)"
   ]
  },
  {
   "cell_type": "markdown",
   "metadata": {},
   "source": [
    "## Review and Write Data Dictionary"
   ]
  },
  {
   "cell_type": "code",
   "execution_count": 9,
   "metadata": {},
   "outputs": [
    {
     "data": {
      "text/plain": [
       "'properties.csv'"
      ]
     },
     "execution_count": 9,
     "metadata": {},
     "output_type": "execute_result"
    }
   ],
   "source": [
    "files[1]"
   ]
  },
  {
   "cell_type": "markdown",
   "metadata": {},
   "source": [
    "After first loading this data, I received this error: \n",
    "\n",
    "```\n",
    "<string>:2: DtypeWarning: Columns (22,32,34,49,55) have mixed types. Specify dtype option on import or set low_memory=False\n",
    "```\n",
    "\n",
    "Here are the descriptions of each of these columns: \n",
    "\n",
    "```\n",
    "count     69014\n",
    "unique        1\n",
    "top        True\n",
    "freq      69014\n",
    "Name: hashottuborspa, dtype: object\n",
    "\n",
    "count     2972940\n",
    "unique        240\n",
    "top          0100\n",
    "freq      1153896\n",
    "Name: propertycountylandusecode, dtype: object\n",
    "\n",
    "count     1978629\n",
    "unique       5638\n",
    "top          LAR1\n",
    "freq       275029\n",
    "Name: propertyzoningdesc, dtype: object\n",
    "\n",
    "count     5163\n",
    "unique       1\n",
    "top       True\n",
    "freq      5163\n",
    "Name: fireplaceflag, dtype: object\n",
    "\n",
    "count     56462\n",
    "unique        1\n",
    "top           Y\n",
    "freq      56462\n",
    "Name: taxdelinquencyflag, dtype: object\n",
    "```\n",
    "\n",
    "For now, I'm just going to load these columns as string columns by using the `dtype` argument in the `read_csv` method. "
   ]
  },
  {
   "cell_type": "code",
   "execution_count": 27,
   "metadata": {
    "collapsed": true
   },
   "outputs": [],
   "source": [
    "# dict to set types of columns \n",
    "types = {22: str, 32: str, 34: str, 49: str, 55: str}"
   ]
  },
  {
   "cell_type": "code",
   "execution_count": 28,
   "metadata": {},
   "outputs": [
    {
     "name": "stdout",
     "output_type": "stream",
     "text": [
      "Wall time: 20.6 s\n"
     ]
    }
   ],
   "source": [
    "%%time\n",
    "# load and view \n",
    "df = pd.read_csv(downloads + files[1], dtype=types)"
   ]
  },
  {
   "cell_type": "code",
   "execution_count": 29,
   "metadata": {},
   "outputs": [
    {
     "data": {
      "text/plain": [
       "(2985217, 58)"
      ]
     },
     "execution_count": 29,
     "metadata": {},
     "output_type": "execute_result"
    }
   ],
   "source": [
    "df.shape"
   ]
  },
  {
   "cell_type": "code",
   "execution_count": 31,
   "metadata": {},
   "outputs": [
    {
     "data": {
      "text/html": [
       "<div>\n",
       "<style>\n",
       "    .dataframe thead tr:only-child th {\n",
       "        text-align: right;\n",
       "    }\n",
       "\n",
       "    .dataframe thead th {\n",
       "        text-align: left;\n",
       "    }\n",
       "\n",
       "    .dataframe tbody tr th {\n",
       "        vertical-align: top;\n",
       "    }\n",
       "</style>\n",
       "<table border=\"1\" class=\"dataframe\">\n",
       "  <thead>\n",
       "    <tr style=\"text-align: right;\">\n",
       "      <th></th>\n",
       "      <th>parcelid</th>\n",
       "      <th>airconditioningtypeid</th>\n",
       "      <th>architecturalstyletypeid</th>\n",
       "      <th>basementsqft</th>\n",
       "      <th>bathroomcnt</th>\n",
       "      <th>bedroomcnt</th>\n",
       "      <th>buildingclasstypeid</th>\n",
       "      <th>buildingqualitytypeid</th>\n",
       "      <th>calculatedbathnbr</th>\n",
       "      <th>decktypeid</th>\n",
       "      <th>...</th>\n",
       "      <th>numberofstories</th>\n",
       "      <th>fireplaceflag</th>\n",
       "      <th>structuretaxvaluedollarcnt</th>\n",
       "      <th>taxvaluedollarcnt</th>\n",
       "      <th>assessmentyear</th>\n",
       "      <th>landtaxvaluedollarcnt</th>\n",
       "      <th>taxamount</th>\n",
       "      <th>taxdelinquencyflag</th>\n",
       "      <th>taxdelinquencyyear</th>\n",
       "      <th>censustractandblock</th>\n",
       "    </tr>\n",
       "  </thead>\n",
       "  <tbody>\n",
       "    <tr>\n",
       "      <th>845121</th>\n",
       "      <td>14364431</td>\n",
       "      <td>NaN</td>\n",
       "      <td>NaN</td>\n",
       "      <td>NaN</td>\n",
       "      <td>2.5</td>\n",
       "      <td>4.0</td>\n",
       "      <td>NaN</td>\n",
       "      <td>NaN</td>\n",
       "      <td>2.5</td>\n",
       "      <td>NaN</td>\n",
       "      <td>...</td>\n",
       "      <td>NaN</td>\n",
       "      <td>NaN</td>\n",
       "      <td>172329.0</td>\n",
       "      <td>585582.0</td>\n",
       "      <td>2015.0</td>\n",
       "      <td>413253.0</td>\n",
       "      <td>5883.40</td>\n",
       "      <td>NaN</td>\n",
       "      <td>NaN</td>\n",
       "      <td>6.059052e+13</td>\n",
       "    </tr>\n",
       "    <tr>\n",
       "      <th>2516378</th>\n",
       "      <td>11335630</td>\n",
       "      <td>NaN</td>\n",
       "      <td>NaN</td>\n",
       "      <td>NaN</td>\n",
       "      <td>2.0</td>\n",
       "      <td>3.0</td>\n",
       "      <td>NaN</td>\n",
       "      <td>7.0</td>\n",
       "      <td>2.0</td>\n",
       "      <td>NaN</td>\n",
       "      <td>...</td>\n",
       "      <td>NaN</td>\n",
       "      <td>NaN</td>\n",
       "      <td>165090.0</td>\n",
       "      <td>177134.0</td>\n",
       "      <td>2015.0</td>\n",
       "      <td>12044.0</td>\n",
       "      <td>2033.72</td>\n",
       "      <td>NaN</td>\n",
       "      <td>NaN</td>\n",
       "      <td>6.037920e+13</td>\n",
       "    </tr>\n",
       "    <tr>\n",
       "      <th>3183</th>\n",
       "      <td>11238420</td>\n",
       "      <td>1.0</td>\n",
       "      <td>NaN</td>\n",
       "      <td>NaN</td>\n",
       "      <td>2.0</td>\n",
       "      <td>4.0</td>\n",
       "      <td>NaN</td>\n",
       "      <td>4.0</td>\n",
       "      <td>2.0</td>\n",
       "      <td>NaN</td>\n",
       "      <td>...</td>\n",
       "      <td>NaN</td>\n",
       "      <td>NaN</td>\n",
       "      <td>139100.0</td>\n",
       "      <td>169600.0</td>\n",
       "      <td>2015.0</td>\n",
       "      <td>30500.0</td>\n",
       "      <td>2834.07</td>\n",
       "      <td>NaN</td>\n",
       "      <td>NaN</td>\n",
       "      <td>6.037911e+13</td>\n",
       "    </tr>\n",
       "    <tr>\n",
       "      <th>381164</th>\n",
       "      <td>12902921</td>\n",
       "      <td>NaN</td>\n",
       "      <td>NaN</td>\n",
       "      <td>NaN</td>\n",
       "      <td>2.0</td>\n",
       "      <td>3.0</td>\n",
       "      <td>NaN</td>\n",
       "      <td>7.0</td>\n",
       "      <td>2.0</td>\n",
       "      <td>NaN</td>\n",
       "      <td>...</td>\n",
       "      <td>NaN</td>\n",
       "      <td>NaN</td>\n",
       "      <td>110769.0</td>\n",
       "      <td>371067.0</td>\n",
       "      <td>2015.0</td>\n",
       "      <td>260298.0</td>\n",
       "      <td>4628.62</td>\n",
       "      <td>NaN</td>\n",
       "      <td>NaN</td>\n",
       "      <td>6.037401e+13</td>\n",
       "    </tr>\n",
       "    <tr>\n",
       "      <th>601308</th>\n",
       "      <td>12207305</td>\n",
       "      <td>NaN</td>\n",
       "      <td>NaN</td>\n",
       "      <td>NaN</td>\n",
       "      <td>2.0</td>\n",
       "      <td>3.0</td>\n",
       "      <td>NaN</td>\n",
       "      <td>7.0</td>\n",
       "      <td>2.0</td>\n",
       "      <td>NaN</td>\n",
       "      <td>...</td>\n",
       "      <td>NaN</td>\n",
       "      <td>NaN</td>\n",
       "      <td>54670.0</td>\n",
       "      <td>273353.0</td>\n",
       "      <td>2015.0</td>\n",
       "      <td>218683.0</td>\n",
       "      <td>4641.34</td>\n",
       "      <td>NaN</td>\n",
       "      <td>NaN</td>\n",
       "      <td>6.037238e+13</td>\n",
       "    </tr>\n",
       "    <tr>\n",
       "      <th>2389333</th>\n",
       "      <td>13073140</td>\n",
       "      <td>1.0</td>\n",
       "      <td>NaN</td>\n",
       "      <td>NaN</td>\n",
       "      <td>3.0</td>\n",
       "      <td>3.0</td>\n",
       "      <td>NaN</td>\n",
       "      <td>4.0</td>\n",
       "      <td>3.0</td>\n",
       "      <td>NaN</td>\n",
       "      <td>...</td>\n",
       "      <td>NaN</td>\n",
       "      <td>NaN</td>\n",
       "      <td>186100.0</td>\n",
       "      <td>513800.0</td>\n",
       "      <td>2015.0</td>\n",
       "      <td>327700.0</td>\n",
       "      <td>6000.58</td>\n",
       "      <td>NaN</td>\n",
       "      <td>NaN</td>\n",
       "      <td>6.037403e+13</td>\n",
       "    </tr>\n",
       "    <tr>\n",
       "      <th>1197386</th>\n",
       "      <td>12515269</td>\n",
       "      <td>NaN</td>\n",
       "      <td>NaN</td>\n",
       "      <td>NaN</td>\n",
       "      <td>3.0</td>\n",
       "      <td>3.0</td>\n",
       "      <td>NaN</td>\n",
       "      <td>7.0</td>\n",
       "      <td>3.0</td>\n",
       "      <td>NaN</td>\n",
       "      <td>...</td>\n",
       "      <td>NaN</td>\n",
       "      <td>NaN</td>\n",
       "      <td>135563.0</td>\n",
       "      <td>165320.0</td>\n",
       "      <td>2015.0</td>\n",
       "      <td>29757.0</td>\n",
       "      <td>2170.52</td>\n",
       "      <td>NaN</td>\n",
       "      <td>NaN</td>\n",
       "      <td>6.037574e+13</td>\n",
       "    </tr>\n",
       "    <tr>\n",
       "      <th>569819</th>\n",
       "      <td>11704868</td>\n",
       "      <td>NaN</td>\n",
       "      <td>NaN</td>\n",
       "      <td>NaN</td>\n",
       "      <td>1.0</td>\n",
       "      <td>2.0</td>\n",
       "      <td>NaN</td>\n",
       "      <td>7.0</td>\n",
       "      <td>1.0</td>\n",
       "      <td>NaN</td>\n",
       "      <td>...</td>\n",
       "      <td>NaN</td>\n",
       "      <td>NaN</td>\n",
       "      <td>135335.0</td>\n",
       "      <td>418325.0</td>\n",
       "      <td>2015.0</td>\n",
       "      <td>282990.0</td>\n",
       "      <td>5157.29</td>\n",
       "      <td>NaN</td>\n",
       "      <td>NaN</td>\n",
       "      <td>6.037232e+13</td>\n",
       "    </tr>\n",
       "    <tr>\n",
       "      <th>2680109</th>\n",
       "      <td>11491955</td>\n",
       "      <td>NaN</td>\n",
       "      <td>NaN</td>\n",
       "      <td>NaN</td>\n",
       "      <td>6.0</td>\n",
       "      <td>9.0</td>\n",
       "      <td>NaN</td>\n",
       "      <td>7.0</td>\n",
       "      <td>6.0</td>\n",
       "      <td>NaN</td>\n",
       "      <td>...</td>\n",
       "      <td>NaN</td>\n",
       "      <td>NaN</td>\n",
       "      <td>79943.0</td>\n",
       "      <td>122756.0</td>\n",
       "      <td>2015.0</td>\n",
       "      <td>42813.0</td>\n",
       "      <td>3043.03</td>\n",
       "      <td>NaN</td>\n",
       "      <td>NaN</td>\n",
       "      <td>6.037621e+13</td>\n",
       "    </tr>\n",
       "    <tr>\n",
       "      <th>966231</th>\n",
       "      <td>12279047</td>\n",
       "      <td>1.0</td>\n",
       "      <td>NaN</td>\n",
       "      <td>NaN</td>\n",
       "      <td>4.0</td>\n",
       "      <td>4.0</td>\n",
       "      <td>NaN</td>\n",
       "      <td>4.0</td>\n",
       "      <td>4.0</td>\n",
       "      <td>NaN</td>\n",
       "      <td>...</td>\n",
       "      <td>NaN</td>\n",
       "      <td>NaN</td>\n",
       "      <td>122500.0</td>\n",
       "      <td>204000.0</td>\n",
       "      <td>2015.0</td>\n",
       "      <td>81500.0</td>\n",
       "      <td>4387.76</td>\n",
       "      <td>NaN</td>\n",
       "      <td>NaN</td>\n",
       "      <td>6.037543e+13</td>\n",
       "    </tr>\n",
       "  </tbody>\n",
       "</table>\n",
       "<p>10 rows × 58 columns</p>\n",
       "</div>"
      ],
      "text/plain": [
       "         parcelid  airconditioningtypeid  architecturalstyletypeid  \\\n",
       "845121   14364431                    NaN                       NaN   \n",
       "2516378  11335630                    NaN                       NaN   \n",
       "3183     11238420                    1.0                       NaN   \n",
       "381164   12902921                    NaN                       NaN   \n",
       "601308   12207305                    NaN                       NaN   \n",
       "2389333  13073140                    1.0                       NaN   \n",
       "1197386  12515269                    NaN                       NaN   \n",
       "569819   11704868                    NaN                       NaN   \n",
       "2680109  11491955                    NaN                       NaN   \n",
       "966231   12279047                    1.0                       NaN   \n",
       "\n",
       "         basementsqft  bathroomcnt  bedroomcnt  buildingclasstypeid  \\\n",
       "845121            NaN          2.5         4.0                  NaN   \n",
       "2516378           NaN          2.0         3.0                  NaN   \n",
       "3183              NaN          2.0         4.0                  NaN   \n",
       "381164            NaN          2.0         3.0                  NaN   \n",
       "601308            NaN          2.0         3.0                  NaN   \n",
       "2389333           NaN          3.0         3.0                  NaN   \n",
       "1197386           NaN          3.0         3.0                  NaN   \n",
       "569819            NaN          1.0         2.0                  NaN   \n",
       "2680109           NaN          6.0         9.0                  NaN   \n",
       "966231            NaN          4.0         4.0                  NaN   \n",
       "\n",
       "         buildingqualitytypeid  calculatedbathnbr  decktypeid  \\\n",
       "845121                     NaN                2.5         NaN   \n",
       "2516378                    7.0                2.0         NaN   \n",
       "3183                       4.0                2.0         NaN   \n",
       "381164                     7.0                2.0         NaN   \n",
       "601308                     7.0                2.0         NaN   \n",
       "2389333                    4.0                3.0         NaN   \n",
       "1197386                    7.0                3.0         NaN   \n",
       "569819                     7.0                1.0         NaN   \n",
       "2680109                    7.0                6.0         NaN   \n",
       "966231                     4.0                4.0         NaN   \n",
       "\n",
       "                ...           numberofstories  fireplaceflag  \\\n",
       "845121          ...                       NaN            NaN   \n",
       "2516378         ...                       NaN            NaN   \n",
       "3183            ...                       NaN            NaN   \n",
       "381164          ...                       NaN            NaN   \n",
       "601308          ...                       NaN            NaN   \n",
       "2389333         ...                       NaN            NaN   \n",
       "1197386         ...                       NaN            NaN   \n",
       "569819          ...                       NaN            NaN   \n",
       "2680109         ...                       NaN            NaN   \n",
       "966231          ...                       NaN            NaN   \n",
       "\n",
       "         structuretaxvaluedollarcnt  taxvaluedollarcnt  assessmentyear  \\\n",
       "845121                     172329.0           585582.0          2015.0   \n",
       "2516378                    165090.0           177134.0          2015.0   \n",
       "3183                       139100.0           169600.0          2015.0   \n",
       "381164                     110769.0           371067.0          2015.0   \n",
       "601308                      54670.0           273353.0          2015.0   \n",
       "2389333                    186100.0           513800.0          2015.0   \n",
       "1197386                    135563.0           165320.0          2015.0   \n",
       "569819                     135335.0           418325.0          2015.0   \n",
       "2680109                     79943.0           122756.0          2015.0   \n",
       "966231                     122500.0           204000.0          2015.0   \n",
       "\n",
       "         landtaxvaluedollarcnt  taxamount  taxdelinquencyflag  \\\n",
       "845121                413253.0    5883.40                 NaN   \n",
       "2516378                12044.0    2033.72                 NaN   \n",
       "3183                   30500.0    2834.07                 NaN   \n",
       "381164                260298.0    4628.62                 NaN   \n",
       "601308                218683.0    4641.34                 NaN   \n",
       "2389333               327700.0    6000.58                 NaN   \n",
       "1197386                29757.0    2170.52                 NaN   \n",
       "569819                282990.0    5157.29                 NaN   \n",
       "2680109                42813.0    3043.03                 NaN   \n",
       "966231                 81500.0    4387.76                 NaN   \n",
       "\n",
       "         taxdelinquencyyear  censustractandblock  \n",
       "845121                  NaN         6.059052e+13  \n",
       "2516378                 NaN         6.037920e+13  \n",
       "3183                    NaN         6.037911e+13  \n",
       "381164                  NaN         6.037401e+13  \n",
       "601308                  NaN         6.037238e+13  \n",
       "2389333                 NaN         6.037403e+13  \n",
       "1197386                 NaN         6.037574e+13  \n",
       "569819                  NaN         6.037232e+13  \n",
       "2680109                 NaN         6.037621e+13  \n",
       "966231                  NaN         6.037543e+13  \n",
       "\n",
       "[10 rows x 58 columns]"
      ]
     },
     "execution_count": 31,
     "metadata": {},
     "output_type": "execute_result"
    }
   ],
   "source": [
    "df.sample(10)"
   ]
  },
  {
   "cell_type": "code",
   "execution_count": 32,
   "metadata": {
    "collapsed": true
   },
   "outputs": [],
   "source": [
    "# write data dictionary \n",
    "write('properties', df)"
   ]
  },
  {
   "cell_type": "code",
   "execution_count": null,
   "metadata": {
    "collapsed": true
   },
   "outputs": [],
   "source": []
  },
  {
   "cell_type": "code",
   "execution_count": null,
   "metadata": {
    "collapsed": true
   },
   "outputs": [],
   "source": []
  },
  {
   "cell_type": "code",
   "execution_count": null,
   "metadata": {
    "collapsed": true
   },
   "outputs": [],
   "source": []
  },
  {
   "cell_type": "code",
   "execution_count": null,
   "metadata": {
    "collapsed": true
   },
   "outputs": [],
   "source": []
  },
  {
   "cell_type": "code",
   "execution_count": null,
   "metadata": {
    "collapsed": true
   },
   "outputs": [],
   "source": []
  },
  {
   "cell_type": "code",
   "execution_count": null,
   "metadata": {
    "collapsed": true
   },
   "outputs": [],
   "source": []
  },
  {
   "cell_type": "code",
   "execution_count": null,
   "metadata": {
    "collapsed": true
   },
   "outputs": [],
   "source": []
  },
  {
   "cell_type": "code",
   "execution_count": null,
   "metadata": {
    "collapsed": true
   },
   "outputs": [],
   "source": []
  },
  {
   "cell_type": "code",
   "execution_count": null,
   "metadata": {
    "collapsed": true
   },
   "outputs": [],
   "source": []
  },
  {
   "cell_type": "code",
   "execution_count": null,
   "metadata": {
    "collapsed": true
   },
   "outputs": [],
   "source": []
  },
  {
   "cell_type": "code",
   "execution_count": null,
   "metadata": {
    "collapsed": true
   },
   "outputs": [],
   "source": []
  },
  {
   "cell_type": "code",
   "execution_count": null,
   "metadata": {
    "collapsed": true
   },
   "outputs": [],
   "source": []
  },
  {
   "cell_type": "code",
   "execution_count": null,
   "metadata": {
    "collapsed": true
   },
   "outputs": [],
   "source": []
  },
  {
   "cell_type": "code",
   "execution_count": null,
   "metadata": {
    "collapsed": true
   },
   "outputs": [],
   "source": []
  },
  {
   "cell_type": "code",
   "execution_count": null,
   "metadata": {
    "collapsed": true
   },
   "outputs": [],
   "source": []
  },
  {
   "cell_type": "code",
   "execution_count": null,
   "metadata": {
    "collapsed": true
   },
   "outputs": [],
   "source": []
  },
  {
   "cell_type": "code",
   "execution_count": null,
   "metadata": {
    "collapsed": true
   },
   "outputs": [],
   "source": []
  },
  {
   "cell_type": "code",
   "execution_count": null,
   "metadata": {
    "collapsed": true
   },
   "outputs": [],
   "source": []
  }
 ],
 "metadata": {
  "kernelspec": {
   "display_name": "Python 3",
   "language": "python",
   "name": "python3"
  },
  "language_info": {
   "codemirror_mode": {
    "name": "ipython",
    "version": 3
   },
   "file_extension": ".py",
   "mimetype": "text/x-python",
   "name": "python",
   "nbconvert_exporter": "python",
   "pygments_lexer": "ipython3",
   "version": "3.6.1"
  }
 },
 "nbformat": 4,
 "nbformat_minor": 2
}
